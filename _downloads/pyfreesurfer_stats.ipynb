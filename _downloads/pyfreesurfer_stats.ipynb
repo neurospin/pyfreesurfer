{
  "nbformat_minor": 0, 
  "nbformat": 4, 
  "cells": [
    {
      "execution_count": null, 
      "cell_type": "code", 
      "source": [
        "%matplotlib inline"
      ], 
      "outputs": [], 
      "metadata": {
        "collapsed": false
      }
    }, 
    {
      "source": [
        "\nPyfreesurfer Stats\n==================\n\nExample automatically generated from package script.\n\n"
      ], 
      "cell_type": "markdown", 
      "metadata": {}
    }, 
    {
      "execution_count": null, 
      "cell_type": "code", 
      "source": [
        "# System import\nfrom __future__ import print_function\nimport os\nimport shutil\nimport argparse\nfrom datetime import datetime\nimport json\nfrom pprint import pprint\nimport textwrap\nfrom argparse import RawTextHelpFormatter\n\n# Bredala import\ntry:\n    import bredala\n    bredala.USE_PROFILER = False\n    bredala.register(\"pyfreesurfer.utils.stattools\",\n                     names=[\"aparcstats2table\", \"asegstats2table\"])\nexcept:\n    pass\n\n# Pyfreesurfer import\nfrom pyfreesurfer import __version__ as version\nfrom pyfreesurfer.utils.stattools import aparcstats2table\nfrom pyfreesurfer.utils.stattools import asegstats2table\nfrom pyfreesurfer.wrapper import FSWrapper\nfrom pyfreesurfer import DEFAULT_FREESURFER_PATH\n\n\n# Parameters to keep trace\n__hopla__ = [\"runtime\", \"inputs\", \"outputs\"]\n\n\n# Script documentation\nDOC = \"\"\"\nFreesurfer statistics\n~~~~~~~~~~~~~~~~~~~~~\n\nGenerate text/ascii tables of FreeSurfer parcellation stats data\n'aseg.stats' and '?h.aparc.stats'. This can then be easily imported into a\nspreadsheet and/or stats program.\n\nThe statistics are generated in a 'stats' sub folder of the FreeSurfer\nprocessing home directory.\n\nCommand:\n\npython $HOME/git/pyfreesurfer/pyfreesurfer/scripts/pyfreesurfer_stats \\\n    -v 2 \\\n    -c /i2bm/local/freesurfer/SetUpFreeSurfer.sh \\\n    -d /neurospin/senior/nsap/data/V4/freesurfer \\\n    -o /neurospin/senior/nsap/data/V4/qc/freesurfer \\\n    -e\n\"\"\"\n\n\ndef is_file(filearg):\n    \"\"\" Type for argparse - checks that file exists but does not open.\n    \"\"\"\n    if not os.path.isfile(filearg):\n        raise argparse.ArgumentError(\n            \"The file '{0}' does not exist!\".format(filearg))\n    return filearg\n\n\ndef is_directory(dirarg):\n    \"\"\" Type for argparse - checks that directory exists.\n    \"\"\"\n    if not os.path.isdir(dirarg):\n        raise argparse.ArgumentError(\n            \"The directory '{0}' does not exist!\".format(dirarg))\n    return dirarg\n\n\ndef get_cmd_line_args():\n    \"\"\"\n    Create a command line argument parser and return a dict mapping\n    <argument name> -> <argument value>.\n    \"\"\"\n    parser = argparse.ArgumentParser(\n        prog=\"python pyfreesurfer_stats\",\n        description=textwrap.dedent(DOC),\n        formatter_class=RawTextHelpFormatter)\n\n    # Required arguments\n    required = parser.add_argument_group(\"required arguments\")\n    required.add_argument(\n        \"-d\", \"--fsdir\",\n        required=True, metavar=\"PATH\", type=is_directory,\n        help=\"the FreeSurfer processing home directory.\")\n    required.add_argument(\n        \"-o\", \"--outdir\",\n        metavar=\"PATH\", required=True, type=is_directory,\n        help=\"the FreeSurfer processing home directory.\")\n\n    # Optional arguments\n    parser.add_argument(\n        \"-v\", \"--verbose\",\n        type=int, choices=[0, 1, 2], default=0,\n        help=\"increase the verbosity level: 0 silent, [1, 2] verbose.\")\n    parser.add_argument(\n        \"-e\", \"--erase\",\n        action=\"store_true\",\n        help=\"if activated, clean the 'stats' folder.\")\n    parser.add_argument(\n        \"-c\", \"--config\", dest=\"fsconfig\",\n        metavar=\"FILE\", type=is_file,\n        help=\"the FreeSurfer configuration file.\")\n\n    # Create a dict of arguments to pass to the 'main' function\n    args = parser.parse_args()\n    if args.fsconfig is None:\n        args.fsconfig = DEFAULT_FREESURFER_PATH\n\n    return args"
      ], 
      "outputs": [], 
      "metadata": {
        "collapsed": false
      }
    }, 
    {
      "source": [
        "Parse the command line.\n\n"
      ], 
      "cell_type": "markdown", 
      "metadata": {}
    }, 
    {
      "execution_count": null, 
      "cell_type": "code", 
      "source": [
        "args = get_cmd_line_args()\ntool = \"pyfreesurfer_stats\"\ntimestamp = datetime.now().isoformat()\ntool_version = version\nfreesurfer_config = args.fsconfig\nfreesurfer_version = FSWrapper([], freesurfer_config).version\nparams = locals()\nruntime = dict([(name, params[name])\n               for name in (\"freesurfer_config\", \"tool\", \"tool_version\",\n                            \"freesurfer_version\", \"timestamp\")])\nif args.verbose > 0:\n    print(\"[info] Start FreeSurfer cat stats...\")\n    print(\"[info] Directory: {0}.\".format(args.fsdir))\nfsdir = args.fsdir\noutdir = args.outdir\nstatsdir = os.path.join(outdir, \"stats\")\nparams = locals()\ninputs = dict([(name, params[name])\n              for name in (\"fsdir\", \"outdir\", \"statsdir\")])\noutputs = None\nif os.path.isdir(statsdir) and args.erase:\n    shutil.rmtree(statsdir)\nif not os.path.isdir(statsdir):\n    os.makedirs(statsdir)"
      ], 
      "outputs": [], 
      "metadata": {
        "collapsed": false
      }
    }, 
    {
      "source": [
        "Summarize all the subjects' statistics\n\n"
      ], 
      "cell_type": "markdown", 
      "metadata": {}
    }, 
    {
      "execution_count": null, 
      "cell_type": "code", 
      "source": [
        "statfiles = aparcstats2table(fsdir, outdir, fsconfig=freesurfer_config)\nstatfiles.extend(asegstats2table(fsdir, outdir, fsconfig=freesurfer_config))\nif args.verbose > 1:\n    print(\"[result] Stats: {0}.\".format(statfiles))"
      ], 
      "outputs": [], 
      "metadata": {
        "collapsed": false
      }
    }, 
    {
      "source": [
        "Update the outputs and save them and the inputs in a 'logs' directory.\n\n"
      ], 
      "cell_type": "markdown", 
      "metadata": {}
    }, 
    {
      "execution_count": null, 
      "cell_type": "code", 
      "source": [
        "logdir = os.path.join(statsdir, \"logs\")\nif not os.path.isdir(logdir):\n    os.mkdir(logdir)\nparams = locals()\noutputs = dict([(name, params[name]) for name in (\"statfiles\", )])\nfor name, final_struct in [(\"inputs\", inputs), (\"outputs\", outputs),\n                           (\"runtime\", runtime)]:\n    log_file = os.path.join(logdir, \"{0}.json\".format(name))\n    with open(log_file, \"wt\") as open_file:\n        json.dump(final_struct, open_file, sort_keys=True, check_circular=True,\n                  indent=4)\nif args.verbose > 1:\n    print(\"[final]\")\n    pprint(outputs)"
      ], 
      "outputs": [], 
      "metadata": {
        "collapsed": false
      }
    }
  ], 
  "metadata": {
    "kernelspec": {
      "display_name": "Python 2", 
      "name": "python2", 
      "language": "python"
    }, 
    "language_info": {
      "mimetype": "text/x-python", 
      "nbconvert_exporter": "python", 
      "name": "python", 
      "file_extension": ".py", 
      "version": "2.7.12", 
      "pygments_lexer": "ipython2", 
      "codemirror_mode": {
        "version": 2, 
        "name": "ipython"
      }
    }
  }
}