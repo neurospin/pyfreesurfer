{
  "nbformat_minor": 0, 
  "nbformat": 4, 
  "cells": [
    {
      "execution_count": null, 
      "cell_type": "code", 
      "source": [
        "%matplotlib inline"
      ], 
      "outputs": [], 
      "metadata": {
        "collapsed": false
      }
    }, 
    {
      "source": [
        "\nPyfreesurfer Datacheck\n======================\n\nExample automatically generated from package script.\n\n"
      ], 
      "cell_type": "markdown", 
      "metadata": {}
    }, 
    {
      "execution_count": null, 
      "cell_type": "code", 
      "source": [
        "# System modules\nfrom __future__ import print_function\nimport os\nimport re\nimport argparse\nimport textwrap\nfrom argparse import RawTextHelpFormatter\n\n\n# Script documentation\nDOC = \"\"\"\nFreeSurfer data check\n---------------------\n\nRun this command to check if your input FreeSurfer processing home\ndirectory ('fsdir') contains the expected FreeSurfer output files for all\nthe subjects. A two step check is leverage: check the file count in each\nfolder - check the recon-all status exit message.\n\nIt is possible to check in details one specific subject specifying his\nidentifier.\n\nThis script can also checks the 'freesurfer_conversion' outputs by specifying\nthe expected number of generated files.\n\npython $HOME/git/pyfreesurfer/pyfreesurfer/scripts/pyfreesurfer_datacheck \\\n    -v 2 \\\n    -d /neurospin/senior/nsap/data/V4/freesurfer \\\n    -r '[a-z]{2}\\d{6}' \\\n    -c 30 \\\n    -q 66\n\"\"\"\n\n\ndef is_directory(dirarg):\n    \"\"\" Type for argparse - checks that directory exists.\n    \"\"\"\n    if not os.path.isdir(dirarg):\n        raise argparse.ArgumentError(\n            \"The directory '{0}' does not exist!\".format(dirarg))\n    return dirarg\n\n\ndef get_cmd_line_args():\n    \"\"\"\n    Create a command line argument parser and return a dict mapping\n    <argument name> -> <argument value>.\n    \"\"\"\n    parser = argparse.ArgumentParser(\n        prog=\"python pyfreesurfer_datacheck\",\n        description=textwrap.dedent(DOC),\n        formatter_class=RawTextHelpFormatter)\n\n    # Required arguments\n    required = parser.add_argument_group(\"required arguments\")\n    required.add_argument(\n        \"-d\", \"--fsdir\",\n        required=True, metavar=\"PATH\", type=is_directory,\n        help=\"the FreeSurfer processing home directory.\")\n    required.add_argument(\n        \"-r\", \"--regex\",\n        required=True,\n        help=(\"the expression to be applied on the 'fsdir' subfolders in order to\"\n              \"retrieve the subjects only.\"))\n\n    # Optional arguments\n    parser.add_argument(\n        \"-v\", \"--verbose\",\n        type=int, choices=[0, 1, 2], default=0,\n        help=\"increase the verbosity level: 0 silent, [1, 2] verbose.\")\n    parser.add_argument(\n        \"-s\", \"--subjectid\",\n        help=(\"the subject identifier. If specified the complete subject \"\n              \"structure is exposed.\"))\n    parser.add_argument(\n        \"-c\", \"--conversion\", dest=\"conversion_count\",\n        type=int,\n        help=\"the number of files expected in the converts folder.\")\n    parser.add_argument(\n        \"-q\", \"--qc\", dest=\"qc_count\",\n        type=int,\n        help=\"the number of files expected in the qc folder.\")\n    parser.add_argument(\n        \"-l\", \"--log\", dest=\"log_count\",\n        type=int,\n        help=\"the number of files expected in the log folder.\")\n\n    # Create a dict of arguments to pass to the 'main' function\n    args = parser.parse_args()\n\n    return args"
      ], 
      "outputs": [], 
      "metadata": {
        "collapsed": false
      }
    }, 
    {
      "source": [
        "Parse the command line.\n\n"
      ], 
      "cell_type": "markdown", 
      "metadata": {}
    }, 
    {
      "execution_count": null, 
      "cell_type": "code", 
      "source": [
        "args = get_cmd_line_args()"
      ], 
      "outputs": [], 
      "metadata": {
        "collapsed": false
      }
    }, 
    {
      "source": [
        "Expected FreeSurfer data structure\n----------------------------------\n\nFirst we define the expected organization of the FreeSurfer output files: we\nconsider the files count only as a criterion.\n\n"
      ], 
      "cell_type": "markdown", 
      "metadata": {}
    }, 
    {
      "execution_count": null, 
      "cell_type": "code", 
      "source": [
        "fsstruct = {\n    \"bem\": 0,\n    \"label\": 69,\n    \"mri\": 35,\n    os.path.join(\"mri\", \"orig\"): 1,\n    os.path.join(\"mri\", \"transforms\"): 13,\n    os.path.join(\"mri\", \"transforms\", \"bak\"): 0,\n    \"scripts\": 11,\n    \"src\": 0,\n    \"stats\": 18,\n    \"surf\": 70,\n    \"tmp\": 0,\n    \"touch\": 67,\n    \"trash\": 0,\n    \"extrapaths\": [\"\"]\n}\nif args.conversion_count is not None:\n    fsstruct[\"convert\"] = args.conversion_count\nif args.qc_count is not None:\n    fsstruct[os.path.join(\"convert\", \"qc\")] = args.qc_count\nif args.log_count is not None:\n    fsstruct[\"logs\"] = args.log_count"
      ], 
      "outputs": [], 
      "metadata": {
        "collapsed": false
      }
    }, 
    {
      "source": [
        "Browsing\n--------\n\nDetect each subject in the FreeSurfer processing home directory 'fsdir' and\ncheck the subject processing tree.\n\n"
      ], 
      "cell_type": "markdown", 
      "metadata": {}
    }, 
    {
      "execution_count": null, 
      "cell_type": "code", 
      "source": [
        "status = {}\nif args.subjectid is not None:\n    fsdir_subfolders = [args.subjectid]\nelse:\n    fsdir_subfolders = os.listdir(args.fsdir)\nfor sid in fsdir_subfolders:\n\n    # Check if the subject id is valid using the input regex\n    match = re.findall(args.regex, sid)\n    if len(match) != 1 or match[0] != sid:\n        continue\n\n    # Store the subject tree folder-folder files counts\n    status[sid] = {\"extrapaths\": [], \"exitcode\": 1}\n    siddir = os.path.join(args.fsdir, sid)\n    for path, dirs, files in os.walk(siddir):\n        rpath = path.replace(siddir, \"\").lstrip(os.sep)\n        if rpath in fsstruct:\n            status[sid][rpath] = len(files)\n        else:\n            status[sid][\"extrapaths\"].append(rpath)\n    fslog = os.path.join(siddir, \"scripts\", \"recon-all-status.log\")\n    last_non_empty_line = \"\"\n    for line in open(fslog):\n        if line.strip():\n            last_non_empty_line = line\n    if \"finished without error\" in last_non_empty_line:\n        status[sid][\"exitcode\"] = 0"
      ], 
      "outputs": [], 
      "metadata": {
        "collapsed": false
      }
    }, 
    {
      "source": [
        "Display a summary\n-----------------\n\nDepending on the verbosity, display the number of complete/failed processings,\nor the list of subjects that didn't run properly.\n\n"
      ], 
      "cell_type": "markdown", 
      "metadata": {}
    }, 
    {
      "execution_count": null, 
      "cell_type": "code", 
      "source": [
        "failed_sids = []\ntotal_success = 0\ntotal_failed = 0\ncount_sids = []\ncount_success = 0\ncount_failed = 0\ntotal = len(status)\nfor sid, sid_status in status.items():\n    exitcode = sid_status.pop(\"exitcode\")\n    if exitcode == 0:\n        total_success += 1\n    else:\n        total_failed += 1\n        failed_sids.append(sid)\n    if sid_status == fsstruct:\n        count_success += 1\n    else:\n        count_failed += 1\n        count_sids.append(sid)\nif args.verbose >= 0:\n    print(\"SUCCESS: {0}/{1}\".format(total_success, total))\n    print(\"FAILED: {0}/{1}\".format(total_failed, total))\n    print(\"FAILED SIDS: {0}\".format(failed_sids))\nif args.verbose >= 1:\n    print(\"COUNT SUCCESS: {0}/{1}\".format(count_success, total))\n    print(\"COUNT FAILED: {0}/{1}\".format(count_failed, total))\n    print(\"COUNT FAILED SIDS: {0}\".format(count_sids))\n\nif args.subjectid is not None:\n    print(\"TREE '{0}': \".format(args.subjectid))\n    for key, value in status[args.subjectid].items():\n        print(\"{0} | {1} (observed) | {2} (reference)\".format(\n            key.rjust(20, \" \"), str(value).rjust(10, \" \"),\n            str(fsstruct[key]).rjust(10, \" \")))"
      ], 
      "outputs": [], 
      "metadata": {
        "collapsed": false
      }
    }
  ], 
  "metadata": {
    "kernelspec": {
      "display_name": "Python 2", 
      "name": "python2", 
      "language": "python"
    }, 
    "language_info": {
      "mimetype": "text/x-python", 
      "nbconvert_exporter": "python", 
      "name": "python", 
      "file_extension": ".py", 
      "version": "2.7.12", 
      "pygments_lexer": "ipython2", 
      "codemirror_mode": {
        "version": 2, 
        "name": "ipython"
      }
    }
  }
}