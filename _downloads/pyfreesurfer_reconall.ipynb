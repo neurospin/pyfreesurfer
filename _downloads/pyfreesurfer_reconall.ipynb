{
  "nbformat_minor": 0, 
  "nbformat": 4, 
  "cells": [
    {
      "execution_count": null, 
      "cell_type": "code", 
      "source": [
        "%matplotlib inline"
      ], 
      "outputs": [], 
      "metadata": {
        "collapsed": false
      }
    }, 
    {
      "source": [
        "\nPyfreesurfer Reconall\n=====================\n\nExample automatically generated from package script.\n\n"
      ], 
      "cell_type": "markdown", 
      "metadata": {}
    }, 
    {
      "execution_count": null, 
      "cell_type": "code", 
      "source": [
        "# System import\nfrom __future__ import print_function\nimport os\nimport shutil\nimport argparse\nfrom datetime import datetime\nimport json\nfrom pprint import pprint\nimport textwrap\nfrom argparse import RawTextHelpFormatter\n\n# Bredala import\ntry:\n    import bredala\n    bredala.USE_PROFILER = False\n    bredala.register(\"pyfreesurfer.segmentation.cortical\",\n                     names=[\"recon_all\"])\nexcept:\n    pass\n\n# Pyfreesurfer import\nfrom pyfreesurfer import __version__ as version\nfrom pyfreesurfer.segmentation.cortical import recon_all\nfrom pyfreesurfer.wrapper import FSWrapper\nfrom pyfreesurfer import DEFAULT_FREESURFER_PATH\n\n\n# Parameters to keep trace\n__hopla__ = [\"runtime\", \"inputs\", \"outputs\"]\n\n\n# Script documentation\nDOC = \"\"\"\nFreesurfer segmentation\n~~~~~~~~~~~~~~~~~~~~~~~\n\nPerforms all the FreeSurfer cortical reconstruction process.\n\nSteps:\n\n1- Motion Correction and Conform\n2- NU (Non-Uniform intensity normalization)\n3- Talairach transform computation\n4- Intensity Normalization 1\n5- Skull Strip\n6- EM Register (linear volumetric registration)\n7- CA Intensity Normalization\n8- CA Non-linear Volumetric Registration\n9- Remove Neck\n10- LTA with Skull\n11- CA Label (Volumetric Labeling, ie Aseg) and Statistics\n12- Intensity Normalization 2 (start here for control points)\n13- White matter segmentation\n14- Edit WM With ASeg\n15- Fill (start here for wm edits)\n16- Tessellation (begins per-hemisphere operations)\n17- Smooth1\n18- Inflate1\n19- QSphere\n20- Automatic Topology Fixer\n21- Final Surfs (start here for brain edits for pial surf)\n22- Smooth2\n23- Inflate2\n24- Spherical Mapping\n25- Spherical Registration\n26- Spherical Registration, Contralateral hemisphere\n27- Map average curvature to subject\n28- Cortical Parcellation - Desikan_Killiany and Christophe (Labeling)\n29- Cortical Parcellation Statistics\n30- Cortical Ribbon Mask\n31- Cortical Parcellation mapping to Aseg\n\nCommand:\n\npython $HOME/git/pyfreesurfer/pyfreesurfer/scripts/pyfreesurfer_reconall \\\n    -v 2 \\\n    -c /i2bm/local/freesurfer/SetUpFreeSurfer.sh \\\n    -d /tmp/freesurfer \\\n    -s ag110371 \\\n    -a /neurospin/senior/nsap/data/V4/nifti/ag110371/000002_3DT1/3DT1.nii.gz \\\n    -e\n\"\"\"\n\n\ndef is_file(filearg):\n    \"\"\" Type for argparse - checks that file exists but does not open.\n    \"\"\"\n    if not os.path.isfile(filearg):\n        raise argparse.ArgumentError(\n            \"The file '{0}' does not exist!\".format(filearg))\n    return filearg\n\n\ndef is_directory(dirarg):\n    \"\"\" Type for argparse - checks that directory exists.\n    \"\"\"\n    if not os.path.isdir(dirarg):\n        raise argparse.ArgumentError(\n            \"The directory '{0}' does not exist!\".format(dirarg))\n    return dirarg\n\n\ndef get_cmd_line_args():\n    \"\"\"\n    Create a command line argument parser and return a dict mapping\n    <argument name> -> <argument value>.\n    \"\"\"\n    parser = argparse.ArgumentParser(\n        prog=\"python pyfreesurfer_reconall\",\n        description=textwrap.dedent(DOC),\n        formatter_class=RawTextHelpFormatter)\n\n    # Required arguments\n    required = parser.add_argument_group(\"required arguments\")\n    required.add_argument(\n        \"-d\", \"--fsdir\",\n        required=True, metavar=\"PATH\", type=is_directory,\n        help=\"the FreeSurfer home directory.\")\n    required.add_argument(\n        \"-s\", \"--subjectid\",\n        required=True,\n        help=\"the subject identifier.\")\n    required.add_argument(\n        \"-a\", \"--anatfile\",\n        metavar=\"FILE\", required=True, type=is_file,\n        help=\"the subject anatomical image to be processed.\")\n\n    # Optional arguments\n    parser.add_argument(\n        \"-v\", \"--verbose\",\n        type=int, choices=[0, 1, 2], default=0,\n        help=\"increase the verbosity level: 0 silent, [1, 2] verbose.\")\n    parser.add_argument(\n        \"-e\", \"--erase\",\n        action=\"store_true\",\n        help=\"if activated, clean the subject folder.\")\n    parser.add_argument(\n        \"-c\", \"--config\", dest=\"fsconfig\",\n        metavar=\"FILE\", type=is_file,\n        help=\"the FreeSurfer configuration file.\")\n    parser.add_argument(\n        \"-t\", \"--t2file\",\n        metavar=\"FILE\", type=is_file,\n        help=\"the subject T2 image to be processed.\")\n    parser.add_argument(\n        \"-f\", \"--flairfile\",\n        metavar=\"FILE\", type=is_file,\n        help=\"the subject FALIR image to be processed.\")\n\n    # Create a dict of arguments to pass to the 'main' function\n    args = parser.parse_args()\n    if args.fsconfig is None:\n        args.fsconfig = DEFAULT_FREESURFER_PATH\n\n    return args"
      ], 
      "outputs": [], 
      "metadata": {
        "collapsed": false
      }
    }, 
    {
      "source": [
        "Parse the command line.\n\n"
      ], 
      "cell_type": "markdown", 
      "metadata": {}
    }, 
    {
      "execution_count": null, 
      "cell_type": "code", 
      "source": [
        "args = get_cmd_line_args()\ntool = \"pyfreesurfer_reconall\"\ntimestamp = datetime.now().isoformat()\ntool_version = version\nfreesurfer_config = args.fsconfig\nfreesurfer_version = FSWrapper([], freesurfer_config).version\nparams = locals()\nruntime = dict([(name, params[name])\n               for name in (\"freesurfer_config\", \"tool\", \"tool_version\",\n                            \"freesurfer_version\", \"timestamp\")])\nif args.verbose > 0:\n    print(\"[info] Start FreeSurfer recon_all...\")\n    print(\"[info] Directory: {0}.\".format(args.fsdir))\n    print(\"[info] Subject: {0}.\".format(args.subjectid))\n    print(\"[info] Anatomy: {0}.\".format(args.anatfile))\nfsdir = args.fsdir\nsubjectid = args.subjectid\nanatfile = args.anatfile\nsubjdir = os.path.join(fsdir, subjectid)\nt2file = args.t2file\nflairfile = args.flairfile\nparams = locals()\ninputs = dict([(name, params[name])\n               for name in (\"subjectid\", \"anatfile\", \"subjdir\", \"t2file\",\n                            \"flairfile\")])\noutputs = None\nif os.path.isdir(subjdir) and args.erase:\n    shutil.rmtree(subjdir)"
      ], 
      "outputs": [], 
      "metadata": {
        "collapsed": false
      }
    }, 
    {
      "source": [
        "Segmentation: all steps\n\n"
      ], 
      "cell_type": "markdown", 
      "metadata": {}
    }, 
    {
      "execution_count": null, 
      "cell_type": "code", 
      "source": [
        "subjdir = recon_all(fsdir,\n                    anatfile,\n                    subjectid,\n                    reconstruction_stage=\"all\",\n                    resume=False,\n                    t2file=t2file,\n                    flairfile=flairfile,  \n                    fsconfig=freesurfer_config)\nif args.verbose > 1:\n    print(\"[result] In folder: {0}.\".format(subjdir))"
      ], 
      "outputs": [], 
      "metadata": {
        "collapsed": false
      }
    }, 
    {
      "source": [
        "Update the outputs and save them and the inputs in a 'logs' directory.\n\n"
      ], 
      "cell_type": "markdown", 
      "metadata": {}
    }, 
    {
      "execution_count": null, 
      "cell_type": "code", 
      "source": [
        "logdir = os.path.join(subjdir, \"logs\")\nif not os.path.isdir(logdir):\n    os.mkdir(logdir)\nparams = locals()\noutputs = dict([(name, params[name]) for name in (\"subjdir\", )])\nfor name, final_struct in [(\"inputs\", inputs), (\"outputs\", outputs),\n                           (\"runtime\", runtime)]:\n    log_file = os.path.join(logdir, \"{0}.json\".format(name))\n    with open(log_file, \"wt\") as open_file:\n        json.dump(final_struct, open_file, sort_keys=True, check_circular=True,\n                  indent=4)\nif args.verbose > 1:\n    print(\"[final]\")\n    pprint(outputs)"
      ], 
      "outputs": [], 
      "metadata": {
        "collapsed": false
      }
    }
  ], 
  "metadata": {
    "kernelspec": {
      "display_name": "Python 2", 
      "name": "python2", 
      "language": "python"
    }, 
    "language_info": {
      "mimetype": "text/x-python", 
      "nbconvert_exporter": "python", 
      "name": "python", 
      "file_extension": ".py", 
      "version": "2.7.12", 
      "pygments_lexer": "ipython2", 
      "codemirror_mode": {
        "version": 2, 
        "name": "ipython"
      }
    }
  }
}