{
  "nbformat_minor": 0, 
  "nbformat": 4, 
  "cells": [
    {
      "execution_count": null, 
      "cell_type": "code", 
      "source": [
        "%matplotlib inline"
      ], 
      "outputs": [], 
      "metadata": {
        "collapsed": false
      }
    }, 
    {
      "source": [
        "\nPyfreesurfer Textures\n=====================\n\nExample automatically generated from package script.\n\n"
      ], 
      "cell_type": "markdown", 
      "metadata": {}
    }, 
    {
      "execution_count": null, 
      "cell_type": "code", 
      "source": [
        "# System import\nfrom __future__ import print_function\nimport os\nimport shutil\nimport argparse\nfrom datetime import datetime\nimport json\nfrom pprint import pprint\nimport textwrap\nfrom argparse import RawTextHelpFormatter\n\n# Bredala import\ntry:\n    import bredala\n    bredala.USE_PROFILER = False\n    bredala.register(\"pyfreesurfer.utils.stattools\",\n                     names=[\"textures2table\"])\n    bredala.register(\"pyfreesurfer.conversion.surftools\",\n                     names=[\"mri_surf2surf\"])\nexcept:\n    pass\n\n# Pyfreesurfer import\nfrom pyfreesurfer import __version__ as version\nfrom pyfreesurfer.utils.stattools import textures2table\nfrom pyfreesurfer.wrapper import FSWrapper\nfrom pyfreesurfer import DEFAULT_FREESURFER_PATH\n\n\n# Parameters to keep trace\n__hopla__ = [\"runtime\", \"inputs\", \"outputs\"]\n\n\n# Script documentation\nDOC = \"\"\"\nFreesurfer textures\n~~~~~~~~~~~~~~~~~~~\n\nGenerate text/ascii tables of freesurfer 'sulc' and 'curv' textures data. This\ncan then be easily imported into a spreadsheet and/or stats program. Note that\nall the subject texture vertices need to be resampled in a common space.\n\nThe statistics are generated in a 'textures' sub folder of the FreeSurfer\nprocessing home directory.\n\nThe 'sulc' surface\n------------------\n\nThe 'sulc' conveys information on how far removed a particular vertex point\non a surface is from a hypothetical 'mid-surface' that exists between the gyri\nand sulci. This surface is chosen so that the 'mean' of all these\ndisplacements is zero. The 'sulc' gives a indication then of linear distance\nand displacements: how 'deep' and how 'high' are brain folds.\n\nIn FreeSurfer, gyri have negative 'sulc' values, and indicate how far 'down'\na point has to travel to reach this 'mid-surface'. Sulci have positive 'sulc'\nvalues, and indicate how far 'up' a point needs to travel to reach the\nmid-surface.\n\nThe 'curv' surface\n------------------\n\nThe 'curv' conveys information on the curvature (not distance) at a specific\nvertex point. The sharper the curve, the higher the value\n(positive or negative). Areas with positive curvature correspond to\ncurvatures in sulci, i.e. curving 'up'. Areas with negative curvature\ncorrespond to curves pointing 'down', i.e. gyri.\n\nNote that the 'curv.pial' is the smoothed mean curvature of the pial surface,\nwhereas the 'curv' is that of the white surface.\n\nCommand\n-------\n\npython $HOME/git/pyfreesurfer/pyfreesurfer/scripts/pyfreesurfer_textures \\\n    -v 2 \\\n    -i 7 \\\n    -c /i2bm/local/freesurfer-5.3.0/SetUpFreeSurfer.sh \\\n    -d /neurospin/senior/nsap/data/V4/freesurfer \\\n    -o /neurospin/senior/nsap/data/V4/qc/freesurfer \\\n    -e\n\"\"\"\n\n\ndef is_file(filearg):\n    \"\"\" Type for argparse - checks that file exists but does not open.\n    \"\"\"\n    if not os.path.isfile(filearg):\n        raise argparse.ArgumentError(\n            \"The file '{0}' does not exist!\".format(filearg))\n    return filearg\n\n\ndef is_directory(dirarg):\n    \"\"\" Type for argparse - checks that directory exists.\n    \"\"\"\n    if not os.path.isdir(dirarg):\n        raise argparse.ArgumentError(\n            \"The directory '{0}' does not exist!\".format(dirarg))\n    return dirarg\n\n\ndef get_cmd_line_args():\n    \"\"\"\n    Create a command line argument parser and return a dict mapping\n    <argument name> -> <argument value>.\n    \"\"\"\n    parser = argparse.ArgumentParser(\n        prog=\"python pyfreesurfer_textures\",\n        description=textwrap.dedent(DOC),\n        formatter_class=RawTextHelpFormatter)\n\n    # Required arguments\n    required = parser.add_argument_group(\"required arguments\")\n    required.add_argument(\n        \"-d\", \"--fsdir\", dest=\"fsdir\", required=True, metavar=\"PATH\",\n        help=\"the FreeSurfer processing home directory.\", type=is_directory)\n    required.add_argument(\n        \"-o\", \"--outdir\",\n        metavar=\"PATH\", required=True, type=is_directory,\n        help=\"the FreeSurfer processing home directory.\")\n\n    # Optional arguments\n    parser.add_argument(\n        \"-v\", \"--verbose\",\n        type=int, choices=[0, 1, 2], default=0,\n        help=\"increase the verbosity level: 0 silent, [1, 2] verbose.\")\n    parser.add_argument(\n        \"-e\", \"--erase\",\n        action=\"store_true\",\n        help=\"if activated, clean the 'textures' folder.\")\n    parser.add_argument(\n        \"-i\", \"--icoorder\", dest=\"ico_order\",\n        default=7, type=int, choices=range(8),\n        help=(\"specifies the order of the icosahedral tesselation (in [0, 7]) \"\n              \"used to define the surface resolution.\"))\n    parser.add_argument(\n        \"-k\", \"--keep\",\n        action=\"store_true\",\n        help=(\"if activated, keep the individual FreeSurfer resampled \"\n              \"surfaces.\"))\n    parser.add_argument(\n        \"-c\", \"--config\", dest=\"fsconfig\",\n        metavar=\"FILE\", type=is_file,\n        help=\"the FreeSurfer configuration file.\")\n\n    # Create a dict of arguments to pass to the 'main' function\n    args = parser.parse_args()\n    if args.fsconfig is None:\n        args.fsconfig = DEFAULT_FREESURFER_PATH\n\n    return args"
      ], 
      "outputs": [], 
      "metadata": {
        "collapsed": false
      }
    }, 
    {
      "source": [
        "Parse the command line.\n\n"
      ], 
      "cell_type": "markdown", 
      "metadata": {}
    }, 
    {
      "execution_count": null, 
      "cell_type": "code", 
      "source": [
        "args = get_cmd_line_args()\ntool = \"pyfreesurfer_textures\"\ntimestamp = datetime.now().isoformat()\ntool_version = version\nfreesurfer_config = args.fsconfig\nfreesurfer_version = FSWrapper([], freesurfer_config).version\nparams = locals()\nruntime = dict([(name, params[name])\n               for name in (\"freesurfer_config\", \"tool\", \"tool_version\",\n                            \"freesurfer_version\", \"timestamp\")])\nif args.verbose > 0:\n    print(\"[info] Start FreeSurfer cat textures...\")\n    print(\"[info] FreeSurfer data directory: {0}.\".format(args.fsdir))\n    print(\"[info] Output directory: {0}.\".format(args.outdir))\n    print(\"[info] Resampling level: {0}.\".format(args.ico_order))\nfsdir = args.fsdir\noutdir = args.outdir\nico_order = args.ico_order\ntexturesdir = os.path.join(outdir, \"textures\")\nparams = locals()\ninputs = dict([(name, params[name])\n               for name in (\"fsdir\", \"outdir\", \"ico_order\", \"texturesdir\")])\noutputs = None\nif os.path.isdir(texturesdir) and args.erase:\n    shutil.rmtree(texturesdir)\nif not os.path.isdir(texturesdir):\n    os.makedirs(texturesdir)"
      ], 
      "outputs": [], 
      "metadata": {
        "collapsed": false
      }
    }, 
    {
      "source": [
        "Summarize all the subjects' textures\n\n"
      ], 
      "cell_type": "markdown", 
      "metadata": {}
    }, 
    {
      "execution_count": null, 
      "cell_type": "code", 
      "source": [
        "textures_files = []\ntextures_regex = [\n    os.path.join(\"*\", \"surf\", \"lh.thickness\"),\n    os.path.join(\"*\", \"surf\", \"rh.thickness\"),\n    os.path.join(\"*\", \"surf\", \"lh.sulc\"),\n    os.path.join(\"*\", \"surf\", \"rh.sulc\"),\n    os.path.join(\"*\", \"surf\", \"lh.curv\"),\n    os.path.join(\"*\", \"surf\", \"rh.curv\"),\n    os.path.join(\"*\", \"surf\", \"lh.curv.pial\"),\n    os.path.join(\"*\", \"surf\", \"rh.curv.pial\")\n]\ninputs[\"textures_regex\"] = textures_regex\nfor regex in textures_regex:\n    textures_files.extend(\n        textures2table(regex, ico_order, fsdir, outdir,\n                       keep_individual_textures=args.keep, save_mode=\"all\",\n                       fsconfig=freesurfer_config))\nif args.verbose > 1:\n    print(\"[result] Textures: {0}.\".format(textures_files))"
      ], 
      "outputs": [], 
      "metadata": {
        "collapsed": false
      }
    }, 
    {
      "source": [
        "Update the outputs and save them and the inputs in a 'logs' directory.\n\n"
      ], 
      "cell_type": "markdown", 
      "metadata": {}
    }, 
    {
      "execution_count": null, 
      "cell_type": "code", 
      "source": [
        "logdir = os.path.join(texturesdir, \"logs\")\nif not os.path.isdir(logdir):\n    os.mkdir(logdir)\nparams = locals()\noutputs = dict([(name, params[name]) for name in (\"textures_files\", )])\nfor name, final_struct in [(\"inputs\", inputs), (\"outputs\", outputs),\n                           (\"runtime\", runtime)]:\n    log_file = os.path.join(logdir, \"{0}.json\".format(name))\n    with open(log_file, \"wt\") as open_file:\n        json.dump(final_struct, open_file, sort_keys=True, check_circular=True,\n                  indent=4)\nif args.verbose > 1:\n    print(\"[final]\")\n    pprint(outputs)"
      ], 
      "outputs": [], 
      "metadata": {
        "collapsed": false
      }
    }
  ], 
  "metadata": {
    "kernelspec": {
      "display_name": "Python 2", 
      "name": "python2", 
      "language": "python"
    }, 
    "language_info": {
      "mimetype": "text/x-python", 
      "nbconvert_exporter": "python", 
      "name": "python", 
      "file_extension": ".py", 
      "version": "2.7.12", 
      "pygments_lexer": "ipython2", 
      "codemirror_mode": {
        "version": 2, 
        "name": "ipython"
      }
    }
  }
}