{
  "nbformat_minor": 0, 
  "nbformat": 4, 
  "cells": [
    {
      "execution_count": null, 
      "cell_type": "code", 
      "source": [
        "%matplotlib inline"
      ], 
      "outputs": [], 
      "metadata": {
        "collapsed": false
      }
    }, 
    {
      "source": [
        "\nPyfreesurfer Tracall\n====================\n\nExample automatically generated from package script.\n\n"
      ], 
      "cell_type": "markdown", 
      "metadata": {}
    }, 
    {
      "execution_count": null, 
      "cell_type": "code", 
      "source": [
        "# Standard\nimport os\nimport argparse\nimport datetime\nimport json\nfrom pprint import pprint\nimport textwrap\nfrom argparse import RawTextHelpFormatter\n\n# Package\nimport pyfreesurfer\nfrom pyfreesurfer import DEFAULT_FREESURFER_PATH\nfrom pyfreesurfer.diffusion.tracula import trac_all\nfrom pyfreesurfer.wrapper import FSWrapper\n\n\n# Parameters to keep trace\n__hopla__ = [\"runtime\", \"inputs\", \"outputs\"]\n\n\n# Script documentation\nDOC = \"\"\"\nAssuming you have a preprocessed DWI (at least for susceptibility and brain\nextracted) with bedpostX done, this script runs the Tracula pipeline.\nIt can correct for Eddy currents and register the diffusion to the\nFreeSurfer space if it is not already done.\n\"\"\"\n\n\ndef is_file(filepath):\n    \"\"\" Check file's existence - argparse 'type' argument.\n    \"\"\"\n    if not os.path.isfile(filepath):\n        raise argparse.ArgumentError(\"File does not exist: %s\" % filepath)\n    return filepath\n\n\ndef is_dir(dirpath):\n    \"\"\" Check direcory's existence - argparse 'type' argument.\n    \"\"\"\n    if not os.path.isdir(dirpath):\n        raise argparse.ArgumentError(\"Directory does not exist: %s\" % dirpath)\n    return dirpath\n\n\ndef get_cmd_line_args():\n    \"\"\"\n    Create a command line argument parser and return a dict mapping\n    <argument name> -> <argument value>.\n    \"\"\"\n    usage = (\"%(prog)s -o <outdir> -s <subject id> -i <path dwi> \"\n             \"-b <path bvals> -r <path bvecs> -d <bedpostX dir> [-S <dir>] \"\n             \"[-E] [-K] |-G] [-N] [-c <path>] [-v <int>]\")\n    prog = \"python pyfreesurfer_tracall\"\n    parser = argparse.ArgumentParser(\n        prog=prog,\n        usage=usage,\n        description=textwrap.dedent(DOC),\n        formatter_class=RawTextHelpFormatter)\n\n    # Required arguments\n    parser.add_argument(\"-o\", \"--outdir\", required=True, metavar=\"<path>\",\n                        help=\"Root directory where to create the subject \"\n                             \"output directory. Created if not existing.\")\n    parser.add_argument(\"-s\", \"--subject-id\", required=True, metavar=\"<id>\",\n                        help=\"Identifier of subject.\")\n    parser.add_argument(\"-i\", \"--dwi\", required=True, type=is_file,\n                        metavar=\"<path>\",\n                        help=\"The preprocessed (at least for susceptilibity) \"\n                             \"Nifti diffusion-weighted volumes.\")\n    parser.add_argument(\"-b\", \"--bvals\", required=True, type=is_file,\n                        metavar=\"<path>\",\n                        help=\"Path to b-values of diffusion-weighted volumes.\")\n    parser.add_argument(\"-r\", \"--bvecs\", required=True, type=is_file,\n                        metavar=\"<path>\",\n                        help=\"Path to diffusion-sensitized directions.\")\n    parser.add_argument(\"-d\", \"--bedpostx-dir\", required=True, type=is_dir,\n                        metavar=\"<path>\",\n                        help=\"BedpostX output directory.\")\n\n    # Optional arguments\n    parser.add_argument(\"-S\", \"--subjects-dir\", metavar=\"<path>\",\n                        help=\"Path to the FreeSurfer subjects directory. \"\n                             \"Required if the environment variable \"\n                             \"$SUBJECTS_DIR is not set.\")\n    parser.add_argument(\"-E\", \"--do-eddy\", action=\"store_true\",\n                        help=\"Apply FSL eddy-current correction.\")\n    parser.add_argument(\"-K\", \"--dont-rotate-bvecs\", action=\"store_false\",\n                        dest=\"do_rotate_bvecs\", default=True,\n                        help=\"Do NOT rotate bvecs to match eddy-current \"\n                             \"correction.\")\n    parser.add_argument(\"-G\", \"--dont-bbregister\", action=\"store_false\",\n                        dest=\"do_bbregister\", default=True,\n                        help=\"Do NOT apply bbregister. \")\n    parser.add_argument(\"-N\", \"--dont-register-mni\", action=\"store_false\",\n                        dest=\"do_register_mni\", default=True,\n                        help=\"Do NOT register T1 to MNI.\")\n    parser.add_argument(\"-T\", \"--temp-dir\", type=is_dir, metavar=\"<path>\",\n                        help=\"Set the root temporary directory.\")\n    parser.add_argument(\"-c\", \"--config\", type=is_file, metavar=\"<path>\",\n                        dest=\"fsconfig\",\n                        help=\"the FreeSurfer configuration file. \"\n                             \"By default %s.\" % DEFAULT_FREESURFER_PATH)\n    parser.add_argument(\"-v\", \"--verbose\", type=int, choices=[0, 1, 2],\n                        default=2, help=\"Increase the verbosity level: 0 \"\n                                        \"silent, [1, 2] verbose.\")\n\n    # Create a dict of arguments to pass to the 'main' function\n    args = parser.parse_args()\n    kwargs = vars(args)\n    verbose = kwargs.pop(\"verbose\")\n    if kwargs[\"fsconfig\"] is None:\n        kwargs[\"fsconfig\"] = DEFAULT_FREESURFER_PATH\n\n    return kwargs, verbose\n\n\n# Parse the command line.\ninputs, verbose = get_cmd_line_args()\n\n# Runtime informations\nruntime = dict(tool=\"pyfreesurfer_tracall\",\n               tool_version=pyfreesurfer.__version__,\n               fs_version=FSWrapper([], shfile=inputs[\"fsconfig\"]).version,\n               timestamp=datetime.datetime.now().isoformat())\n\nif verbose > 0:\n    pprint(\"[info] Starting trac-all\")\n    pprint(\"[info] Runtime:\")\n    pprint(runtime)\n    pprint(\"[info] Inputs:\")\n    pprint(inputs)\n\n# Run\nsubject_dir = trac_all(**inputs)\noutputs = dict(subject_dir=subject_dir)\n\n# Store inputs, runtime and outputs as JSONs in a 'logs' dir in the subject_dir\nlogs_dir = os.path.join(subject_dir, \"logs\")\nif not os.path.isdir(logs_dir):\n    os.mkdir(logs_dir)\nfor k, v in dict(inputs=inputs, outputs=outputs, runtime=runtime).items():\n    path_json = os.path.join(logs_dir, \"%s_trac-all.json\" % k)\n    with open(path_json, \"w\") as f:\n        json.dump(v, f, sort_keys=True, check_circular=True, indent=4)"
      ], 
      "outputs": [], 
      "metadata": {
        "collapsed": false
      }
    }
  ], 
  "metadata": {
    "kernelspec": {
      "display_name": "Python 2", 
      "name": "python2", 
      "language": "python"
    }, 
    "language_info": {
      "mimetype": "text/x-python", 
      "nbconvert_exporter": "python", 
      "name": "python", 
      "file_extension": ".py", 
      "version": "2.7.12", 
      "pygments_lexer": "ipython2", 
      "codemirror_mode": {
        "version": 2, 
        "name": "ipython"
      }
    }
  }
}