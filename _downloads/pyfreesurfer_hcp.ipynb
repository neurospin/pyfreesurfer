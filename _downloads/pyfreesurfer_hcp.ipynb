{
  "nbformat_minor": 0, 
  "nbformat": 4, 
  "cells": [
    {
      "execution_count": null, 
      "cell_type": "code", 
      "source": [
        "%matplotlib inline"
      ], 
      "outputs": [], 
      "metadata": {
        "collapsed": false
      }
    }, 
    {
      "source": [
        "\nPyfreesurfer Hcp\n================\n\nExample automatically generated from package script.\n\n"
      ], 
      "cell_type": "markdown", 
      "metadata": {}
    }, 
    {
      "execution_count": null, 
      "cell_type": "code", 
      "source": [
        "# System import\nfrom __future__ import print_function\nimport os\nimport json\nfrom pprint import pprint\nimport argparse\nfrom datetime import datetime\nimport shutil\nimport textwrap\nfrom argparse import RawTextHelpFormatter\n\n# Bredala import\ntry:\n    import bredala\n    bredala.USE_PROFILER = False\n    bredala.register(\"pyfreesurfer.hcp\",\n                     names=[\"prefreesurfer_hcp\", \"freesurfer_hcp\",\n                            \"postfreesurfer_hcp\"])\n    # bredala.register(\"pyfreesurfer.wrapper\",\n    #                  names=[\"HCPWrapper.__init__\"])\nexcept:\n    pass\n\n# Pyfreesurfer import\nfrom pyfreesurfer import __version__ as version\nfrom pyfreesurfer.wrapper import HCPWrapper\nfrom pyfreesurfer import DEFAULT_FREESURFER_PATH\nfrom pyfreesurfer import DEFAULT_FSL_PATH\nfrom pyfreesurfer import DEFAULT_WORKBENCH_PATH\nfrom pyfreesurfer.hcp import prefreesurfer_hcp\nfrom pyfreesurfer.hcp import freesurfer_hcp\nfrom pyfreesurfer.hcp import postfreesurfer_hcp\n\n\n# Parameters to keep trace\n__hopla__ = [\"runtime\", \"inputs\", \"outputs\"]\n\n\n# Script documentation\nDOC = \"\"\"\nRun the HCP prefreesurfer, freesurfer and postfreesurfer scripts.\n\nRequirements for this module:\n  installed versions of:\n    - FSL (version 5.0.6),\n    - FreeSurfer (version 5.3.0-HCP),\n    - gradunwarp (HCP version 1.0.2) if doing gradient distortion correction\n\n  environment:\n    - FSLDIR\n    - FREESURFER_HOME\n    - HCPPIPEDIR\n    - CARET7DIR\n    - PATH (to be able to find gradient_unwarp.py)\n\nThe primary purposes of the PreFreeSurfer Pipeline\n~~~~~~~~~~~~~~~~~~~~~~~~~~~~~~~~~~~~~~~~~~~~~~~~~~\n\n1. To average any image repeats (i.e. multiple T1w or T2w images available)\n2. To create a native, undistorted structural volume space for the subject\n        * Subject images in this native space will be distortion corrected\n          for gradient and b0 distortions and rigidly aligned to the axes\n          of the MNI space. \"Native, undistorted structural volume space\"\n          is sometimes shortened to the \"subject's native space\" or simply\n          \"native space\".\n3. To provide an initial robust brain extraction\n4. To align the T1w and T2w structural images (register them to the native\n   space)\n5. To perform bias field correction\n6. To register the subject's native space to the MNI space\n\nThe primary purposes of the FreeSurfer Pipeline\n~~~~~~~~~~~~~~~~~~~~~~~~~~~~~~~~~~~~~~~~~~~~~~~\n\n1. Make Spline Interpolated Downsample to 1mm\n2. Initial recon-all steps (with flags that are part of \"-autorecon1\", with the\n   exception of -skullstrip)\n3. Generate brain mask\n4. Call recon-all to run most of the \"-autorecon2\" stages, but turning off\n   smooth2, inflate2, curvstats, and segstats stages.\n5. High resolution white matter and fine tune T2w to T1w registration.\n6. Intermediate Recon-all Steps\n7. High resolution pial matter (adjusts the pial surface based on the the T2w\n   image)\n8. Final recon-all steps\n\nThe primary purposes of the PostFreeSurfer Pipeline\n~~~~~~~~~~~~~~~~~~~~~~~~~~~~~~~~~~~~~~~~~~~~~~~~~~~\n\n1. Conversion of FreeSurfer Volumes and Surfaces to NIFTI and GIFTI and Create\n   Caret Files and Registration\n2. Create FreeSurfer ribbon file at full resolution\n3. Myelin Mapping\n\n\nCommand\n~~~~~~~\n\npython $HOME/git/pyfreesurfer/pyfreesurfer/scripts/pyfreesurfer_hcp \\\n    --path /volatile/nsap/hcp \\\n    --subject 994273 \\\n    --t1 /tmp/T1w_MPR1/994273_3T_T1w_MPR1.nii.gz \\\n    --t2 /tmp/T2w_SPC1/994273_3T_T2w_SPC1.nii.gz \\\n    --fmapmag /tmp/T1w_MPR1/994273_3T_FieldMap_Magnitude.nii.gz \\\n    --fmapphase /tmp/T1w_MPR1/994273_3T_FieldMap_Phase.nii.gz \\\n    --gdcoeffs /tmp/coeff_SC72C_Skyra.grad \\\n    --hcpdir /volatile/git/Pipelines \\\n    --wbcommand /usr/bin \\\n    --verbose 1\n\"\"\"\n\n\ndef is_file(filearg):\n    \"\"\" Type for argparse - checks that file exists but does not open.\n    \"\"\"\n    if filearg == \"NONE\":\n        return filearg\n    elif not os.path.isfile(filearg):\n        raise argparse.ArgumentError(\n            \"The file '{0}' does not exist!\".format(filearg))\n    return filearg\n\n\ndef is_directory(dirarg):\n    \"\"\" Type for argparse - checks that directory exists.\n    \"\"\"\n    if not os.path.isdir(dirarg):\n        raise argparse.ArgumentError(\n            \"The directory '{0}' does not exist!\".format(dirarg))\n    return dirarg\n\n\ndef get_cmd_line_args():\n    \"\"\"\n    Create a command line argument parser and return a dict mapping\n    <argument name> -> <argument value>.\n    \"\"\"\n    parser = argparse.ArgumentParser(\n        prog=\"python pyfreesurfer_hcp\",\n        description=textwrap.dedent(DOC),\n        formatter_class=RawTextHelpFormatter)\n\n    # Required arguments\n    required = parser.add_argument_group(\"required arguments\")\n    required.add_argument(\n        \"--path\",\n        required=True, type=is_directory,\n        help=\"path to study data folder (~ to FreeSurfer home directory). \"\n             \"Used with --subject input to create full path to root directory \"\n             \"for all outputs generated as /path/subject.\")\n    required.add_argument(\n        \"--subject\",\n        required=True,\n        help=\"subject ID. Used with --path input to create full path to root \"\n             \"directory for all outputs generated as path/subject.\")\n    required.add_argument(\n        \"--t1\",\n        type=is_file,  nargs=\"+\",\n        help=\"list of full paths to T1-weighted structural images for the \"\n             \"subject.\")\n    required.add_argument(\n        \"--t2\",\n        type=is_file, nargs=\"+\",\n        help=\"list of full paths to T2-weighted structural images for the \"\n             \"subject.\")\n    required.add_argument(\n        \"--hcpdir\",\n        required=True,\n        help=\"the path to the HCP project containing the HCP scripts.\")\n\n    # Optional arguments\n    parser.add_argument(\n        \"--field\",\n        choices=(\"3T\", \"7T\"), default=\"3T\",\n        help=\"subject ID. Used with --path input to create full path to root \"\n             \"directory for all outputs generated as path/subject.\")\n    parser.add_argument(\n        \"--brainsize\",\n        type=int, default=150,\n        help=\"brain size estimate in mm, 150 for humans.\")\n    parser.add_argument(\n        \"--fmapmag\",\n        type=is_file, default=\"NONE\",\n        help=\"Siemens Gradient Echo Fieldmap magnitude file.\")\n    parser.add_argument(\n        \"--fmapphase\",\n        type=is_file, default=\"NONE\",\n        help=\"Siemens Gradient Echo Fieldmap phase file.\")\n    parser.add_argument(\n        \"--fmapgeneralelectric\",\n        default=\"NONE\",\n        help=\"General Electric Gradient Echo Field Map file.\"\n             \"Two volumes in one file: 1. field map in deg, 2. magnitude.\")\n    parser.add_argument(\n        \"--echodiff\",\n        default=2.46,\n        help=\"delta TE in ms for field map or 'NONE' if not used.\")\n    parser.add_argument(\n        \"--SEPhaseNeg\",\n        default=\"NONE\",\n        help=\"for spin echo field map, path to volume with a negative phase\"\n             \"encoding direction (LR in HCP data), set to 'NONE' if not using \"\n             \"Spin Echo Field Maps.\")\n    parser.add_argument(\n        \"--SEPhasePos\",\n        default=\"NONE\",\n        help=\"for spin echo field map, path to volume with a positive phase\"\n             \"encoding direction (RL in HCP data), set to 'NONE' if not using \"\n             \"Spin Echo Field Maps.\")\n    parser.add_argument(\n        \"--echospacing\", dest=\"echospacing\", default=\"NONE\",\n        help=\"echo Spacing or Dwelltime of Spin Echo Field Map or 'NONE' if not\"\n             \"used.\")\n    parser.add_argument(\n        \"--seunwarpdir\",\n        default=\"NONE\",\n        help=\"phase encoding direction of the spin echo field map. (Only \"\n             \"applies when using a spin echo field map.).\")\n    parser.add_argument(\n        \"--t1samplespacing\", default=0.0000074,\n        help=\"T1 image sample spacing, 'NONE' if not used.\")\n    parser.add_argument(\n        \"--t2samplespacing\", default=0.0000021,\n        help=\"T2 image sample spacing, 'NONE' if not used.\")\n    parser.add_argument(\n        \"--unwarpdir\",\n        choices=(\"z\", \"y\", \"x\"), default=\"z\",\n        help=\"readout direction of the T1w and T2w images (Used with either a \"\n             \"gradient echo field map or a spin echo field map).\")\n    parser.add_argument(\n        \"--gdcoeffs\",\n        default=\"NONE\", type=is_file,\n        help=\"file containing gradient distortion coefficients. \"\n             \"Set to 'NONE' to turn off.\")\n    parser.add_argument(\n        \"--avgrdcmethod\", default=\"SiemensFieldMap\",\n        help=\"averaging and readout distortion correction method or 'NONE' if \"\n             \"not used.\")\n    parser.add_argument(\n        \"--topupconfig\",\n        default=\"NONE\",\n        help=\"configuration file for topup or 'NONE' if not used.\")\n    parser.add_argument(\n        \"--fsldir\",\n        type=is_file,\n        help=\"the path to the FSL 'fsl.sh' configuration file.\")\n    parser.add_argument(\n        \"--fsconfig\",\n        type=is_file,\n        help=\"the path to the FreeSurfer configuration file.\")\n    parser.add_argument(\n        \"--wbcommand\",\n        type=is_directory,\n        help=\"the path containing the wbcommand.\")\n    parser.add_argument(\n        \"--verbose\",\n        type=int, choices=[0, 1, 2], default=0,\n        help=\"increase the verbosity level: 0 silent, [1, 2] verbose.\")\n    parser.add_argument(\n        \"--erase\",\n        action=\"store_true\",\n        help=\"if activated, clean the result folder.\")\n    parser.add_argument(\n        \"--nopre\",\n        action=\"store_true\",\n        help=\"if activated, do not perform the prefreesurfer step.\")\n    parser.add_argument(\n        \"--t1wdir\",\n        type=is_directory,\n        help=\"if nopre, the prefreesurfer T1w folder.\")\n\n    # Create a dict of arguments to pass to the 'main' function\n    args = parser.parse_args()\n    if args.fsconfig is None:\n        args.fsconfig = DEFAULT_FREESURFER_PATH\n    if args.fsldir is None:\n        args.fsldir = DEFAULT_FSL_PATH\n    if args.wbcommand is None:\n        args.wbcommand = DEFAULT_WORKBENCH_PATH\n\n    return args"
      ], 
      "outputs": [], 
      "metadata": {
        "collapsed": false
      }
    }, 
    {
      "source": [
        "Parse the command line.\n\n"
      ], 
      "cell_type": "markdown", 
      "metadata": {}
    }, 
    {
      "execution_count": null, 
      "cell_type": "code", 
      "source": [
        "args = get_cmd_line_args()\ntool = \"pyfreesurfer_hcp\"\nif args.field != \"3T\":\n    raise ValueError(\"{0} field not yet supported.\".format(args.field))\ntimestamp = datetime.now().isoformat()\ntool_version = version\nfreesurfer_config = args.fsconfig\nfsl_config = args.fsldir\nwbcommand = args.wbcommand\nwrapper = HCPWrapper(\n    env={\"PATH\": os.environ[\"PATH\"],\n         \"HCPPIPEDIR\": args.hcpdir,\n         \"CARET7DIR\": wbcommand},\n    fslconfig=fsl_config,\n    fsconfig=freesurfer_config)\nfreesurfer_version = wrapper.freesurfer_version()\nfsl_version = wrapper.fsl_version()\ngradunwarp_version = wrapper.gradunwarp_version()\nwbcommand_version = wrapper.wbcommand_version()\nhcp_version = wrapper.hcp_version()\nparams = locals()\nruntime = dict([(name, params[name])\n               for name in (\"freesurfer_config\", \"fsl_config\", \"tool\",\n                            \"tool_version\", \"freesurfer_version\",\n                            \"fsl_version\", \"gradunwarp_version\",\n                            \"wbcommand_version\", \"hcp_version\", \"timestamp\")])\nif args.verbose > 0:\n    version_error = \"<NOT INSTALLED>\"\n    print(\"[info] Start FreeSurfer HCP recon_all...\")\n    print(\"[info] Directory: {0}.\".format(args.path))\n    print(\"[info] Subject: {0}.\".format(args.subject))\n    print(\"[info] T1w: {0}.\".format(args.t1))\n    print(\"[info] T2w: {0}.\".format(args.t2))\n    print(\"[info] FSL version: {0}.\".format(fsl_version or version_error))\n    print(\"[info] FreeSurfer version: {0}.\".format(\n        freesurfer_version or version_error))\n    print(\"[info] GradUnWarp version: {0}.\".format(\n        gradunwarp_version or version_error))\n    print(\"[info] WBCommand version: {0}.\".format(\n        wbcommand_version or version_error))\n    print(\"[info] HCP version: {0}.\".format(hcp_version or version_error))\nworkdir = args.path\nsubject = args.subject\nsubjectdir = os.path.join(workdir, subject)\nt1files = args.t1\nt2files = args.t2\nmagfile = args.fmapmag\nphasefile = args.fmapphase\nnopre = args.nopre\nt1wdir = args.t1wdir\nparams = locals()\ninputs = dict([(name, params[name])\n               for name in (\"subject\", \"t1files\", \"subjectdir\", \"t2files\",\n                            \"workdir\", \"nopre\", \"t1wdir\")])\noutputs = None\nif args.erase and os.path.isdir(subjectdir):\n    shutil.rmtree(subjectdir)\nif not os.path.isdir(subjectdir):\n    os.mkdir(subjectdir)"
      ], 
      "outputs": [], 
      "metadata": {
        "collapsed": false
      }
    }, 
    {
      "source": [
        "Perform or not the PreFreeSurfer pipeline.\n\n"
      ], 
      "cell_type": "markdown", 
      "metadata": {}
    }, 
    {
      "execution_count": null, 
      "cell_type": "code", 
      "source": [
        "if nopre:\n\n    \"\"\"\n    Copy the input T1w/MNINonLinear PreFreeSurfer output directories.\n    \"\"\"\n    t1w_folder = os.path.join(subjectdir, \"T1w\")\n    if not os.path.isdir(t1w_folder):\n        shutil.copytree(t1wdir, t1w_folder)\n    mninonlinear_folder = os.path.join(subjectdir, \"MNINonLinear\")\n    mninonlineardir = os.path.join(os.path.dirname(t1wdir), \"MNINonLinear\")\n    if not os.path.isdir(mninonlinear_folder):\n        shutil.copytree(mninonlineardir, mninonlinear_folder)\n\n\n    \"\"\"\n    Restore the PreFreeSurfer pipeline outputs.\n    \"\"\"\n    t1_img = os.path.join(t1w_folder, \"T1w_acpc_dc_restore.nii.gz\")\n    t1_img_brain = os.path.join(t1w_folder, \"T1w_acpc_dc_restore_brain.nii.gz\")\n    t2_img = os.path.join(t1w_folder, \"T2w_acpc_dc_restore.nii.gz\")\n\n    \n    \"\"\"\n    Remove FreeSurfer folder if created.\n    \"\"\"\n    fssubjdir = os.path.join(t1w_folder, subject)\n    if os.path.isdir(fssubjdir):\n        shutil.rmtree(fssubjdir)\n\nelse:\n\n    \"\"\"\n    Copy/rename the input images in the HCP working directory.\n    \"\"\"\n    t1_basename = \"{0}_{1}_T1w_MPR{2}\"\n    t2_basename = \"{0}_{1}_T2w_SPC{2}\"\n    mag_basename = \"{0}_{1}_FieldMap_Magnitude\"\n    phase_basename = \"{0}_{1}_T1w_FieldMap_Phase\"\n    for files, basename in [(t1files, t1_basename), (t2files, t2_basename),\n                            (magfile, mag_basename), (phasefile, phase_basename)]:\n        if not isinstance(files, list):\n            files = [files]\n        for cnt, path in enumerate(files):\n            if path == \"NONE\":\n                continue\n            extensions = os.path.basename(path).split(\".\")[1:]\n            extension = \".\" + \".\".join(extensions)\n            out_file = os.path.join(\n                subjectdir,\n                basename.format(subject, args.field, cnt + 1) + extension)\n            shutil.copy2(path, out_file)\n\n\n    \"\"\"\n    PreFreeSurfer Pipeline.\n    \"\"\"\n\n    t1w_folder, t1_img, t1_img_brain, t2_img = prefreesurfer_hcp(\n        path=args.path,\n        subject=args.subject,\n        t1=args.t1,\n        t2=args.t2,\n        fmapmag=args.fmapmag,\n        fmapphase=args.fmapphase,\n        hcpdir=args.hcpdir,\n        brainsize=args.brainsize,\n        fmapgeneralelectric=args.fmapgeneralelectric,\n        echodiff=args.echodiff,\n        SEPhaseNeg=args.SEPhaseNeg,\n        SEPhasePos=args.SEPhasePos,\n        echospacing=args.echospacing,\n        seunwarpdir=args.seunwarpdir,\n        t1samplespacing=args.t1samplespacing,\n        t2samplespacing=args.t2samplespacing,\n        unwarpdir=args.unwarpdir,\n        gdcoeffs=args.gdcoeffs,\n        avgrdcmethod=args.avgrdcmethod,\n        topupconfig=args.topupconfig,\n        wbcommand=wbcommand,\n        fslconfig=fsl_config,\n        fsconfig=freesurfer_config)"
      ], 
      "outputs": [], 
      "metadata": {
        "collapsed": false
      }
    }, 
    {
      "source": [
        "FreeSurfer Pipeline\n\n"
      ], 
      "cell_type": "markdown", 
      "metadata": {}
    }, 
    {
      "execution_count": null, 
      "cell_type": "code", 
      "source": [
        "freesurfer_hcp(\n    subject=args.subject,\n    t1w_folder=t1w_folder,\n    t1_img=t1_img,\n    t1_img_brain=t1_img_brain,\n    t2_img=t2_img,\n    hcpdir=args.hcpdir,\n    wbcommand=wbcommand,\n    fslconfig=fsl_config,\n    fsconfig=freesurfer_config)"
      ], 
      "outputs": [], 
      "metadata": {
        "collapsed": false
      }
    }, 
    {
      "source": [
        "PostFreeSurfer Pipeline\n\n"
      ], 
      "cell_type": "markdown", 
      "metadata": {}
    }, 
    {
      "execution_count": null, 
      "cell_type": "code", 
      "source": [
        "postfreesurfer_hcp(\n    path=args.path,\n    subject=args.subject,\n    hcpdir=args.hcpdir,\n    wbcommand=args.wbcommand,\n    fslconfig=fsl_config,\n    fsconfig=freesurfer_config)"
      ], 
      "outputs": [], 
      "metadata": {
        "collapsed": false
      }
    }, 
    {
      "source": [
        "Update the outputs and save them and the inputs in a 'logs' directory.\n\n"
      ], 
      "cell_type": "markdown", 
      "metadata": {}
    }, 
    {
      "execution_count": null, 
      "cell_type": "code", 
      "source": [
        "logdir = os.path.join(subjectdir, \"logs\")\nif not os.path.isdir(logdir):\n    os.mkdir(logdir)\nparams = locals()\noutputs = dict([(name, params[name]) for name in (\"t1w_folder\", )])\nfor name, final_struct in [(\"inputs\", inputs), (\"outputs\", outputs),\n                           (\"runtime\", runtime)]:\n    log_file = os.path.join(logdir, \"{0}.json\".format(name))\n    with open(log_file, \"wt\") as open_file:\n        json.dump(final_struct, open_file, sort_keys=True, check_circular=True,\n                  indent=4)\nif args.verbose > 1:\n    print(\"[final]\")\n    pprint(outputs)"
      ], 
      "outputs": [], 
      "metadata": {
        "collapsed": false
      }
    }
  ], 
  "metadata": {
    "kernelspec": {
      "display_name": "Python 2", 
      "name": "python2", 
      "language": "python"
    }, 
    "language_info": {
      "mimetype": "text/x-python", 
      "nbconvert_exporter": "python", 
      "name": "python", 
      "file_extension": ".py", 
      "version": "2.7.12", 
      "pygments_lexer": "ipython2", 
      "codemirror_mode": {
        "version": 2, 
        "name": "ipython"
      }
    }
  }
}