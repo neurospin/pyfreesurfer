{
  "nbformat_minor": 0, 
  "nbformat": 4, 
  "cells": [
    {
      "execution_count": null, 
      "cell_type": "code", 
      "source": [
        "%matplotlib inline"
      ], 
      "outputs": [], 
      "metadata": {
        "collapsed": false
      }
    }, 
    {
      "source": [
        "\nPyfreesurfer Qualitycheck\n=========================\n\nExample automatically generated from package script.\n\n"
      ], 
      "cell_type": "markdown", 
      "metadata": {}
    }, 
    {
      "execution_count": null, 
      "cell_type": "code", 
      "source": [
        "# System import\nfrom __future__ import print_function\nimport argparse\nimport os\nimport shutil\nfrom datetime import datetime\nimport json\nfrom pprint import pprint\nimport textwrap\nfrom argparse import RawTextHelpFormatter\n\n# Bredala import\ntry:\n    import bredala\n    bredala.USE_PROFILER = False\n    bredala.register(\"pyfreesurfer.utils.stattools\",\n                     names=[\"population_summary\"])\n    bredala.register(\"pyfreesurfer.plots.slicer\",\n                     names=[\"tkmedit_slice\"])\n    bredala.register(\"pyfreesurfer.plots.polar\",\n                     names=[\"polar_plot\"])\n    bredala.register(\"pyfreesurfer.utils.filetools\",\n                     names=[\"surf2ctm\"])\n    bredala.register(\"pyconnectomist.utils.pdftools\",\n                     names=[\"generate_pdf\"])\nexcept:\n    pass\n\n# Pyfreesurfer import\nimport pyfreesurfer\nfrom pyfreesurfer import __version__ as version\nfrom pyfreesurfer.utils.stattools import population_summary\nfrom pyfreesurfer.plots.slicer import tkmedit_slice\nfrom pyfreesurfer.plots.slicer import AXIS_NAME\nfrom pyfreesurfer.plots.polar import polar_plot\nfrom pyfreesurfer.wrapper import FSWrapper\nfrom pyfreesurfer import DEFAULT_FREESURFER_PATH\nfrom pyfreesurfer.utils.filetools import surf2ctm\nfrom pyconnectomist.utils.pdftools import generate_pdf\n\n\n# Parameters to keep trace\n__hopla__ = [\"runtime\", \"inputs\", \"outputs\"]\n\n\n# Script documentation\nDOC = \"\"\"\nFreeSurfer Quality Check\n~~~~~~~~~~~~~~~~~~~~~~~~\n\nInspect the results returned by the FreeSurfer segmentation.\n\nSteps:\n\n1- Create the population statistic.\n2- Create polar plots.\n3- Create white/pial mesh overlays.\n4- Compress the FreeSurfer surfaces.\n\nCommand:\n\npython $HOME/git/pyfreesurfer/pyfreesurfer/scripts/pyfreesurfer_qualitycheck \\\n    -v 2 \\\n    -c /i2bm/local/freesurfer/SetUpFreeSurfer.sh \\\n    -d /neurospin/senior/nsap/data/V4/freesurfer \\\n    -m /neurospin/senior/nsap/data/V4/freesurfer/stats \\\n    -s ag110371 \\\n    -o /neurospin/senior/nsap/data/V4/qc/freesurfer \\\n    -i 20 \\\n    -a C \\\n    -P SENIOR \\\n    -T V4 \\\n    -e\n\"\"\"\n\n\ndef is_file(filearg):\n    \"\"\" Type for argparse - checks that file exists but does not open.\n    \"\"\"\n    if not os.path.isfile(filearg):\n        raise argparse.ArgumentError(\n            \"The file '{0}' does not exist!\".format(filearg))\n    return filearg\n\n\ndef is_directory(dirarg):\n    \"\"\" Type for argparse - checks that directory exists.\n    \"\"\"\n    if not os.path.isdir(dirarg):\n        raise argparse.ArgumentError(\n            \"The directory '{0}' does not exist!\".format(dirarg))\n    return dirarg\n\n\ndef get_cmd_line_args():\n    \"\"\"\n    Create a command line argument parser and return a dict mapping\n    <argument name> -> <argument value>.\n    \"\"\"\n    parser = argparse.ArgumentParser(\n        prog=\"python pyfreesurfer_qualitycheck\",\n        description=textwrap.dedent(DOC),\n        formatter_class=RawTextHelpFormatter)\n\n    # Required arguments\n    required = parser.add_argument_group(\"required arguments\")\n    required.add_argument(\n        \"-P\", \"--projectname\",\n        required=True,\n        help=\"the project name.\")\n    required.add_argument(\n        \"-T\", \"--timestep\",\n        required=True,\n        help=\"the time step assocaited to the diffusion dataset.\")\n    required.add_argument(\n        \"-m\", \"--statdir\",\n        required=True, metavar=\"PATH\", type=is_directory,\n        help=\"the path to the summary FreeSurfer 'stats'.\")\n    required.add_argument(\n        \"-d\", \"--fsdir\",\n        required=True, metavar=\"PATH\", type=is_directory,\n        help=\"the FreeSurfer processing home directory.\")\n    required.add_argument(\n        \"-s\", \"--subjectid\",\n        required=True,\n        help=\"the subject identifier.\")\n    required.add_argument(\n        \"-a\", \"--cutaxis\",\n        nargs=\"+\", choices=[\"C\", \"A\", \"S\"],\n        help=(\"the cut axis, use 'C' for Coronal, 'A' for Axial and 'S' for \"\n              \"Sagittal.\"))\n\n    # Optional arguments\n    parser.add_argument(\n        \"-v\", \"--verbose\",\n        type=int, choices=[0, 1, 2], default=0,\n        help=\"increase the verbosity level: 0 silent, [1, 2] verbose.\")\n    parser.add_argument(\n        \"-e\", \"--erase\",\n        action=\"store_true\",\n        help=\"if activated, clean the result folder if already created.\")\n    parser.add_argument(\n        \"-C\", \"--clientname\",\n        default=\"NC\",\n        help=\"the client name.\")\n    parser.add_argument(\n        \"-c\", \"--fsconfig\",\n        metavar=\"FILE\", type=is_file,\n        help=\"the FreeSurfer configuration file.\")\n    parser.add_argument(\n        \"-o\", \"--outdir\",\n        metavar=\"PATH\", type=is_directory,\n        help=\"the FreeSurfer QC home directory, default is 'fsdir'.\")\n    parser.add_argument(\n        \"-i\", \"--incr\",\n        default=1, type=int,\n        help=\"the increment between two slices.\")\n\n    # Create a dict of arguments to pass to the 'main' function\n    args = parser.parse_args()\n    if args.fsconfig is None:\n        args.fsconfig = DEFAULT_FREESURFER_PATH\n\n    return args"
      ], 
      "outputs": [], 
      "metadata": {
        "collapsed": false
      }
    }, 
    {
      "source": [
        "Parse the command line.\n\n"
      ], 
      "cell_type": "markdown", 
      "metadata": {}
    }, 
    {
      "execution_count": null, 
      "cell_type": "code", 
      "source": [
        "args = get_cmd_line_args()\ntool = \"pyfreesurfer_qualitycheck\"\ntimestamp = datetime.now().isoformat()\ntool_version = version\nfreesurfer_config = args.fsconfig\nfreesurfer_version = FSWrapper([], freesurfer_config).version\nparams = locals()\nruntime = dict([(name, params[name])\n               for name in (\"freesurfer_config\", \"tool\", \"tool_version\",\n                            \"freesurfer_version\", \"timestamp\")])\nif args.verbose > 0:\n    print(\"[info] Start FreeSurfer QC...\")\n    print(\"[info] Directory: {0}.\".format(args.fsdir))\n    print(\"[info] Subject: {0}.\".format(args.subjectid))\nclientname = args.clientname\nprojectname = args.projectname\ntimepoint = args.timestep\nsid = args.subjectid\nsubjdir = os.path.join(args.fsdir, args.subjectid)\noutdir = args.outdir\nif outdir is None:\n    outdir = args.fsdir\nstatdir = args.statdir\nincrement = args.incr\ncut_axis = args.cutaxis\nqcdir = os.path.join(outdir, args.subjectid, \"qc\")\nparams = locals()\ninputs = dict([(name, params[name])\n               for name in (\"sid\", \"subjdir\", \"outdir\", \"statdir\", \"increment\",\n                            \"qcdir\", \"cut_axis\", \"clientname\", \"projectname\",\n                            \"timepoint\")])\noutputs = None\nif not os.path.isdir(subjdir):\n    raise ValueError(\n        \"'{0}' is not a FreeSurfer subject folder.\".format(subjdir))\nif not os.path.isdir(qcdir):\n    os.makedirs(qcdir)\nelif args.erase:\n    shutil.rmtree(qcdir)\n    os.mkdir(qcdir)"
      ], 
      "outputs": [], 
      "metadata": {
        "collapsed": false
      }
    }, 
    {
      "source": [
        "Create the population statistic and get the subjects measures\n\n"
      ], 
      "cell_type": "markdown", 
      "metadata": {}
    }, 
    {
      "execution_count": null, 
      "cell_type": "code", 
      "source": [
        "popstats = population_summary(statdir)\nindstats = population_summary(statdir, args.subjectid)"
      ], 
      "outputs": [], 
      "metadata": {
        "collapsed": false
      }
    }, 
    {
      "source": [
        "Create polar plots\n\n"
      ], 
      "cell_type": "markdown", 
      "metadata": {}
    }, 
    {
      "execution_count": null, 
      "cell_type": "code", 
      "source": [
        "polars = []\nfor name, cohort_stats in popstats.items():\n    individual_stats = indstats[name]\n    snapfile = os.path.join(qcdir, \"polarplot-{0}.png\".format(name))\n    polars.append(snapfile)\n    polar_plot(individual_stats,\n               cohort_stats,\n               snapfile,\n               name=\"polarplot-{0}\".format(name))"
      ], 
      "outputs": [], 
      "metadata": {
        "collapsed": false
      }
    }, 
    {
      "source": [
        "Create white/pial mesh overlays\n\n"
      ], 
      "cell_type": "markdown", 
      "metadata": {}
    }, 
    {
      "execution_count": null, 
      "cell_type": "code", 
      "source": [
        "slices = {}\npath_lut = os.path.join(os.path.dirname(freesurfer_config),\n                        \"FreeSurferColorLUT.txt\")\nfor axis in cut_axis:\n    slices[AXIS_NAME[axis]] = {}\n    for stype in [\"aparc\", \"edges\", \"aseg\"]:\n        axisdir = os.path.join(qcdir, AXIS_NAME[axis], stype)\n        if not os.path.isdir(axisdir):\n            os.makedirs(axisdir)\n        slices[AXIS_NAME[axis]][stype] = tkmedit_slice(\n            args.fsdir,\n            args.subjectid,\n            axisdir,\n            stype,\n            cut_axis=axis,\n            slice_interval=(0, 255, increment),\n            path_lut=path_lut,\n            fsconfig=freesurfer_config)"
      ], 
      "outputs": [], 
      "metadata": {
        "collapsed": false
      }
    }, 
    {
      "source": [
        "Compress the FreeSurfer surfaces\n\n"
      ], 
      "cell_type": "markdown", 
      "metadata": {}
    }, 
    {
      "execution_count": null, 
      "cell_type": "code", 
      "source": [
        "surfaces = surf2ctm(subjdir, qcdir)"
      ], 
      "outputs": [], 
      "metadata": {
        "collapsed": false
      }
    }, 
    {
      "source": [
        "Generate QC reporting\n\n"
      ], 
      "cell_type": "markdown", 
      "metadata": {}
    }, 
    {
      "execution_count": null, 
      "cell_type": "code", 
      "source": [
        "if \"C\" in cut_axis or increment != 20:\n    reportfile = os.path.join(qcdir, \"QcFreeSurfer_{0}_{1}_{2}.pdf\".format(\n        projectname, sid, timepoint))\n    tic = datetime.now()\n    generate_pdf(\n        datapath=qcdir,\n        struct_file=os.path.join(\n            os.path.abspath(os.path.dirname(pyfreesurfer.__file__)), \"plots\",\n            \"resources\", \"pyfreesurfer.json\"),\n        author=\"NeuroSpin\",\n        client=clientname,\n        poweredby=\"PyFreeSurfer-{0}\".format(tool_version),\n        project=projectname,\n        timepoint=timepoint,\n        subject=sid,\n        date=\"{0}-{1}-{2}\".format(tic.year, tic.month, tic.day),\n        title=\"FreeSurfer QC Reporting\",\n        filename=reportfile,\n        pagesize=None,\n        left_margin=10,\n        right_margin=10,\n        top_margin=20,\n        bottom_margin=20,\n        show_boundary=False,\n        verbose=0)\n    if args.verbose > 1:\n        print(\"[result] In file: {0}.\".format(reportfile))\nelse:\n  print(\"[warn] Impossible to compute the report, the 'C' cut axis must be \"\n        \"set with a '20' increment.\")\n  reportfile = None"
      ], 
      "outputs": [], 
      "metadata": {
        "collapsed": false
      }
    }, 
    {
      "source": [
        "Update the outputs and save them and the inputs in a 'logs' directory.\n\n"
      ], 
      "cell_type": "markdown", 
      "metadata": {}
    }, 
    {
      "execution_count": null, 
      "cell_type": "code", 
      "source": [
        "logdir = os.path.join(qcdir, \"logs\")\nif not os.path.isdir(logdir):\n    os.mkdir(logdir)\nparams = locals()\noutputs = dict([(name, params[name])\n               for name in (\"polars\", \"surfaces\", \"slices\", \"reportfile\")])\nfor name, final_struct in [(\"inputs\", inputs), (\"outputs\", outputs),\n                           (\"runtime\", runtime)]:\n    log_file = os.path.join(logdir, \"{0}.json\".format(name))\n    with open(log_file, \"wt\") as open_file:\n        json.dump(final_struct, open_file, sort_keys=True, check_circular=True,\n                  indent=4)\nif args.verbose > 1:\n    print(\"[final]\")\n    pprint(outputs)"
      ], 
      "outputs": [], 
      "metadata": {
        "collapsed": false
      }
    }
  ], 
  "metadata": {
    "kernelspec": {
      "display_name": "Python 2", 
      "name": "python2", 
      "language": "python"
    }, 
    "language_info": {
      "mimetype": "text/x-python", 
      "nbconvert_exporter": "python", 
      "name": "python", 
      "file_extension": ".py", 
      "version": "2.7.12", 
      "pygments_lexer": "ipython2", 
      "codemirror_mode": {
        "version": 2, 
        "name": "ipython"
      }
    }
  }
}