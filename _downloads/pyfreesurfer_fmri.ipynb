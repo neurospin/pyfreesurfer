{
  "nbformat_minor": 0, 
  "nbformat": 4, 
  "cells": [
    {
      "execution_count": null, 
      "cell_type": "code", 
      "source": [
        "%matplotlib inline"
      ], 
      "outputs": [], 
      "metadata": {
        "collapsed": false
      }
    }, 
    {
      "source": [
        "\nPyfreesurfer Fmri\n=================\n\nExample automatically generated from package script.\n\n"
      ], 
      "cell_type": "markdown", 
      "metadata": {}
    }, 
    {
      "execution_count": null, 
      "cell_type": "code", 
      "source": [
        "# System import\nfrom __future__ import print_function\nimport os\nimport shutil\nimport argparse\nfrom datetime import datetime\nimport json\nimport numpy\nfrom pprint import pprint\nimport textwrap\nfrom argparse import RawTextHelpFormatter\n\n# Bredala import\ntry:\n    import bredala\n    bredala.USE_PROFILER = False\n    bredala.register(\"pyfreesurfer.fmri\",\n                     names=[\"mkpreproc_sess\", \"mkmodel_sess\", \"mkstat_sess\"])\nexcept:\n    pass\n\n# Package import\nfrom pyfreesurfer import __version__ as version\nfrom pyfreesurfer.fmri import mkpreproc_sess\nfrom pyfreesurfer.fmri import mkmodel_sess\nfrom pyfreesurfer.fmri import mkstat_sess\nfrom pyfreesurfer.wrapper import FSWrapper\nfrom pyfreesurfer import DEFAULT_FREESURFER_PATH\n\n# Pyconnectome import\nfrom pyconnectome import __version__ as pyconnectome_version\nfrom pyconnectome.wrapper import FSLWrapper\nfrom pyconnectome import DEFAULT_FSL_PATH\n\n\n# Parameters to keep trace\n__hopla__ = [\"runtime\", \"inputs\", \"outputs\"]\n\n\n# Script documentation\nDOC = \"\"\"\nFreesurfer fMRI first level analysis\n\n* Time-series analysis\n* Everything inside of a functional subdir (all runs)\n* Preprocessing\n* GLM Analysis\n\nPreprocessing steps.\nBinding around the FreeSurfer's 'preproc-sess' command.\n\n* Registration Template Creation\n* Motion Correction\n* Slice-timing correction (if using)\n* Functional-Anatomical Registration\n* Mask creation\n* Intensity normalization, Part 1\n* Resampling raw time series to mni305, lh, and rh\n* Spatial smoothing\n\nFirst Level GLM Analysis steps.\nBinding around the FreeSurfer's 'mkanalysis-sess', 'mkcontrast-sess' and\n'selxavg3-sess' commands.\n\n* Configure Analysis\n* Create Contrasts\n* Perform Analysis\n\nCommand example in the IMAGEN data:\n\npython $HOME/git/pyfreesurfer/pyfreesurfer/scripts/pyfreesurfer_fmri \\\n    -v 2 \\\n    -o /volatile/tmp/freesurfer_fmri \\\n    -d /neurospin/imagen/BL/processed/freesurfer \\\n    -s 000000820294 \\\n    -f /neurospin/imagen/BL/processed/nifti/000000820294/SessionA/EPI_stop_signal/000000820294s701a1007.nii.gz \\\n    -f /neurospin/imagen/BL/processed/nifti/000000820294/SessionA/EPI_stop_signal/000000820294s701a1007.nii.gz \\\n    -p /volatile/tmp/freesurfer_fmri/paradigm.txt \\\n    -a bold \\\n    -t 2.2 \\\n    -n 4 \\\n    -c /volatile/tmp/freesurfer_fmri/contrasts.json \\\n    -R\n\"\"\"\n\n\ndef is_file(filearg):\n    \"\"\" Type for argparse - checks that file exists but does not open.\n    \"\"\"\n    if not os.path.isfile(filearg):\n        raise argparse.ArgumentError(\n            \"The file '{0}' does not exist!\".format(filearg))\n    return filearg\n\n\ndef is_directory(dirarg):\n    \"\"\" Type for argparse - checks that directory exists.\n    \"\"\"\n    if not os.path.isdir(dirarg):\n        raise argparse.ArgumentError(\n            \"The directory '{0}' does not exist!\".format(dirarg))\n    return dirarg\n\n\ndef get_cmd_line_args():\n    \"\"\"\n    Create a command line argument parser and return a dict mapping\n    <argument name> -> <argument value>.\n    \"\"\"\n    parser = argparse.ArgumentParser(\n        prog=\"python pyfreesurfer_fmri_preproc\",\n        description=textwrap.dedent(DOC),\n        formatter_class=RawTextHelpFormatter)\n\n    # Required arguments\n    required = parser.add_argument_group(\"required arguments\")\n    required.add_argument(\n        \"-o\", \"--outdir\",\n        required=True, metavar=\"<path>\",\n        help=\"the destination folder.\")\n    required.add_argument(\n        \"-d\", \"--fsdir\",\n        required=True, type=is_directory, metavar=\"<path>\",\n        help=\"the FreeSurfer home directory.\")\n    required.add_argument(\n        \"-a\", \"--acquisition\",\n        required=True, choices=[\"bold\", \"rest\"], metavar=\"<choice>\",\n        help=\"the acquisition type.\")\n    required.add_argument(\n        \"-s\", \"--subjectid\",\n        required=True, metavar=\"<str>\",\n        help=\"the subject identifier.\")\n    required.add_argument(\n        \"-f\", \"--funcfiles\",\n        required=True, type=is_file, metavar=\"<session files>\", nargs=\"+\",\n        action=\"append\",\n        help=\"the subject functional volumes (one per session) to be \"\n             \"processed.\")\n    required.add_argument(\n        \"-p\", \"--paradigms\",\n        required=True, type=is_file, metavar=\"<session files>\", nargs=\"+\",\n        action=\"append\",\n        help=\"the pragigms file that follow the FreeSurfer convension.\")\n    required.add_argument(\n        \"-t\", \"--tr\",\n        required=True, type=float, metavar=\"<float>\",\n        help=\"the repetition time.\")\n    required.add_argument(\n        \"-n\", \"--nconditions\",\n        required=True, type=int, metavar=\"<int>\",\n        help=\"number of conditions (excluding fixation).\")\n    parser.add_argument(\n        \"-c\", \"--contrasts\",\n        required=True, type=is_file, metavar=\"<file>\",\n        help=\"a JSON file that contains a list of contrasts with each contrast \"\n             \"being a tuple of the form: ('name', 'stat', [condition list], \"\n             \"[condition list ids], [weight list]).\")\n\n    # Optional arguments\n    parser.add_argument(\n        \"-H\", \"--fs-sh\",\n        type=is_file, metavar=\"<path>\",\n        help=\"Bash script initializing FreeSurfer's environment.\")\n    parser.add_argument(\n        \"-F\", \"--fsl-sh\",\n        type=is_file, metavar=\"<path>\",\n        help=\"Bash script initializing FSL's environment.\")\n    parser.add_argument(\n        \"-R\", \"--force\",\n        action=\"store_true\",\n        help=\"if activated, force reprocessing of all stages.\")\n    parser.add_argument(\n        \"-v\", \"--verbose\",\n        type=int, choices=[0, 1, 2], default=0,\n        help=\"increase the verbosity level: 0 silent, [1, 2] verbose.\")\n\n    # Create a dict of arguments to pass to the 'main' function\n    args = parser.parse_args()\n    kwargs = vars(args)\n    verbose = kwargs.pop(\"verbose\")\n    if kwargs[\"fs_sh\"] is None:\n        kwargs[\"fs_sh\"] = DEFAULT_FREESURFER_PATH\n    if kwargs[\"fsl_sh\"] is None:\n        kwargs[\"fsl_sh\"] = DEFAULT_FSL_PATH\n\n    return kwargs, verbose"
      ], 
      "outputs": [], 
      "metadata": {
        "collapsed": false
      }
    }, 
    {
      "source": [
        "Parse the command line.\n\n"
      ], 
      "cell_type": "markdown", 
      "metadata": {}
    }, 
    {
      "execution_count": null, 
      "cell_type": "code", 
      "source": [
        "inputs, verbose = get_cmd_line_args()\ntool = \"pyfreesurfer_fmri\"\ntimestamp = datetime.now().isoformat()\ntool_version = version\nfsl_version = FSLWrapper([], shfile=inputs[\"fsl_sh\"]).version\nfreesurfer_version = FSWrapper([], inputs[\"fs_sh\"]).version\nparams = locals()\nruntime = dict([(name, params[name])\n               for name in (\"tool\", \"tool_version\", \"fsl_version\",\n                            \"freesurfer_version\", \"timestamp\",\n                            \"pyconnectome_version\")])\noutputs = None\nif verbose > 0:\n    pprint(\"[info] Starting FreeSurfer fMRI preprocessing ...\")\n    pprint(\"[info] Runtime:\")\n    pprint(runtime)\n    pprint(\"[info] Inputs:\")\n    pprint(inputs)"
      ], 
      "outputs": [], 
      "metadata": {
        "collapsed": false
      }
    }, 
    {
      "source": [
        "Copy/rename the functional volumes in order to be compliant with the FreeSurfer\nontology.\n\n"
      ], 
      "cell_type": "markdown", 
      "metadata": {}
    }, 
    {
      "execution_count": null, 
      "cell_type": "code", 
      "source": [
        "sessionid_file = os.path.join(inputs[\"outdir\"], inputs[\"subjectid\"], \"sessid\")\nif os.path.isfile(sessionid_file):\n    os.remove(sessionid_file)\nfor session_cnt, (session_paths, session_paradigms) in enumerate(\n        zip(inputs[\"funcfiles\"], inputs[\"paradigms\"])):\n    sessionid = \"Sess{0:03d}\".format(session_cnt + 1)\n    with open(sessionid_file, \"at\") as open_file:\n        open_file.write(sessionid + \"\\n\")\n    for run_cnt, (run_path, run_paradigm) in enumerate(\n            zip(session_paths, session_paradigms)):\n        extensions = os.path.basename(run_path).split(\".\")[1:]\n        extension = \".\" + \".\".join(extensions)\n        runid = \"{0:03d}\".format(run_cnt + 1)\n        subjectdir = os.path.join(inputs[\"outdir\"], inputs[\"subjectid\"],\n                                  sessionid, inputs[\"acquisition\"], runid)\n        if not os.path.isdir(subjectdir):\n            os.makedirs(subjectdir)\n        funcfile = os.path.join(subjectdir, \"f\" + extension)\n        shutil.copy2(run_path, funcfile)\n        parafile = os.path.join(subjectdir, \"odd.even.par\")\n        shutil.copy2(run_paradigm, parafile)\n    subjectname_file = os.path.join(inputs[\"outdir\"], inputs[\"subjectid\"],\n                                    sessionid, \"subjectname\")\n    with open(subjectname_file, \"wt\") as open_file:\n        open_file.write(inputs[\"subjectid\"])"
      ], 
      "outputs": [], 
      "metadata": {
        "collapsed": false
      }
    }, 
    {
      "source": [
        "Preprocessiong\n\n"
      ], 
      "cell_type": "markdown", 
      "metadata": {}
    }, 
    {
      "execution_count": null, 
      "cell_type": "code", 
      "source": [
        "lh_fsaverage, rh_fsaverage, sub_fsaverage, bbr_sum, mc_plots = mkpreproc_sess(\n    sessid=sessionid_file,\n    outdir=os.path.join(inputs[\"outdir\"], inputs[\"subjectid\"]),\n    fsdir=inputs[\"fsdir\"],\n    fsd=inputs[\"acquisition\"],\n    perrun=True,\n    persession=False, \n    fwhm=5.,\n    update=not inputs[\"force\"],\n    force=inputs[\"force\"],\n    sliceorder=None,\n    surface=\"lhrh\",\n    mni3052mm=True,\n    mni3051mm=False,\n    nomc=False,\n    nostc=False,\n    nosmooth=False,\n    nomask=False,\n    noreg=False,\n    noinorm=False,\n    fsconfig=inputs[\"fs_sh\"],\n    fslconfig=inputs[\"fsl_sh\"],\n    verbose=verbose)"
      ], 
      "outputs": [], 
      "metadata": {
        "collapsed": false
      }
    }, 
    {
      "source": [
        "First level configuration\nrefeventdur parameter has no influence on the design matrix. It controls a\nscaling factor so that the beta value (regression coef) will equal to the\nheight of the hemodynamic response when viewed in the raw data. This sounds\nlike it should be simple but it is actually quite tricky. The bottom line is \nthat it is only a scale factor, so it does not affect p-values or \nt-values. Can be set to the mean of the task event durations.\n\n"
      ], 
      "cell_type": "markdown", 
      "metadata": {}
    }, 
    {
      "execution_count": null, 
      "cell_type": "code", 
      "source": [
        "analysis_names = mkmodel_sess(\n    outdir=os.path.join(inputs[\"outdir\"], inputs[\"subjectid\"]),\n    tr=inputs[\"tr\"],\n    contrasts_file=inputs[\"contrasts\"],\n    funcstem=os.path.basename(sub_fsaverage[0]),\n    fsd=inputs[\"acquisition\"],\n    perrun=True,\n    persession=False,\n    #fwhm=5.,\n    mni3052mm=True,\n    mni3051mm=False,\n    blocked_design=True,\n    retinototy_design=False,\n    abblocked_design=False,\n    spmhrf=0,\n    fslhrf=None,\n    gammafit=None,\n    ngammaderiv=None,\n    fir=None,\n    nconditions=inputs[\"nconditions\"],\n    refeventdur=1.,\n    polyfit=2,\n    mcextreg=True,\n    nuisreg=None,\n    nskip=4,\n    fsconfig=inputs[\"fs_sh\"],\n    verbose=verbose)\n\n#analysis_names= ['odd.even.sm5.0.lh']\n                 #'odd.even.sm5.0.rh']\n                 #'odd.even.sm5.0.mni305']"
      ], 
      "outputs": [], 
      "metadata": {
        "collapsed": false
      }
    }, 
    {
      "source": [
        "First level analysis\n\n"
      ], 
      "cell_type": "markdown", 
      "metadata": {}
    }, 
    {
      "execution_count": null, 
      "cell_type": "code", 
      "source": [
        "mkstat_sess(\n    sessid=sessionid_file,\n    outdir=os.path.join(inputs[\"outdir\"], inputs[\"subjectid\"]),\n    fsdir=inputs[\"fsdir\"],\n    analysis_names=analysis_names,\n    svres=False,\n    svres_unwhitened=False,\n    run_wise=False,\n    max_threads=False,\n    overwrite=False,\n    fsconfig=inputs[\"fs_sh\"],\n    verbose=verbose)"
      ], 
      "outputs": [], 
      "metadata": {
        "collapsed": false
      }
    }, 
    {
      "source": [
        "Update the outputs and save them and the inputs in a 'logs' directory.\n\n"
      ], 
      "cell_type": "markdown", 
      "metadata": {}
    }, 
    {
      "execution_count": null, 
      "cell_type": "code", 
      "source": [
        "logdir = os.path.join(inputs[\"outdir\"], inputs[\"subjectid\"], \"logs\")\nif not os.path.isdir(logdir):\n    os.mkdir(logdir)\nparams = locals()\noutputs = dict([(name, params[name])\n               for name in (\"lh_fsaverage\", \"rh_fsaverage\", \"sub_fsaverage\",\n                            \"bbr_sum\", \"mc_plots\", \"analysis_names\")])\nfor name, final_struct in [(\"inputs\", inputs), (\"outputs\", outputs),\n                           (\"runtime\", runtime)]:\n    log_file = os.path.join(logdir, \"{0}.json\".format(name))\n    with open(log_file, \"wt\") as open_file:\n        json.dump(final_struct, open_file, sort_keys=True, check_circular=True,\n                  indent=4)\nif verbose > 1:\n    print(\"[info] Outputs:\")\n    pprint(outputs)"
      ], 
      "outputs": [], 
      "metadata": {
        "collapsed": false
      }
    }
  ], 
  "metadata": {
    "kernelspec": {
      "display_name": "Python 2", 
      "name": "python2", 
      "language": "python"
    }, 
    "language_info": {
      "mimetype": "text/x-python", 
      "nbconvert_exporter": "python", 
      "name": "python", 
      "file_extension": ".py", 
      "version": "2.7.12", 
      "pygments_lexer": "ipython2", 
      "codemirror_mode": {
        "version": 2, 
        "name": "ipython"
      }
    }
  }
}