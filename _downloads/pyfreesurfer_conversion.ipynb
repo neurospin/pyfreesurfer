{
  "nbformat_minor": 0, 
  "nbformat": 4, 
  "cells": [
    {
      "execution_count": null, 
      "cell_type": "code", 
      "source": [
        "%matplotlib inline"
      ], 
      "outputs": [], 
      "metadata": {
        "collapsed": false
      }
    }, 
    {
      "source": [
        "\nPyfreesurfer Conversion\n=======================\n\nExample automatically generated from package script.\n\n"
      ], 
      "cell_type": "markdown", 
      "metadata": {}
    }, 
    {
      "execution_count": null, 
      "cell_type": "code", 
      "source": [
        "# System import\nfrom __future__ import print_function\nimport os\nimport shutil\nimport argparse\nfrom datetime import datetime\nimport json\nfrom pprint import pprint\nimport nibabel\nimport numpy\nimport textwrap\nfrom argparse import RawTextHelpFormatter\n\n# Bredala import\ntry:\n    import bredala\n    bredala.USE_PROFILER = False\n    bredala.register(\"pyfreesurfer.conversions.volconvs\",\n                     names=[\"mri_convert\"])\n    bredala.register(\"pyfreesurfer.conversions.surfconvs\",\n                     names=[\"resample_cortical_surface\", \"surf_convert\",\n                            \"midgray_surface\", \"interhemi_surfreg\"])\n    bredala.register(\"pyfreesurfer.utils.regtools\",\n                     names=[\"conformed_to_native_space\"])\nexcept:\n    pass\n\n# Pyfreesurfer import\nfrom pyfreesurfer import __version__ as version\nfrom pyfreesurfer.wrapper import FSWrapper\nfrom pyfreesurfer import DEFAULT_FREESURFER_PATH\nfrom pyfreesurfer import DEFAULT_TEMPLATE_SYM_PATH\nfrom pyfreesurfer.conversions.volconvs import mri_convert\nfrom pyfreesurfer.conversions.surfconvs import surf_convert\nfrom pyfreesurfer.conversions.surfconvs import resample_cortical_surface\nfrom pyfreesurfer.conversions.surfconvs import midgray_surface\nfrom pyfreesurfer.conversions.surfconvs import interhemi_surfreg\nfrom pyfreesurfer.utils.regtools import conformed_to_native_space\n\n\n# Parameters to keep trace\n__hopla__ = [\"runtime\", \"inputs\", \"outputs\"]\n\n\n# Script documentation\nDOC = \"\"\"\nFreesurfer conversion\n~~~~~~~~~~~~~~~~~~~~~\n\nConvert the results returned by the FreeSurfer cortical reconstruction\npipeline.\n\nSteps:\n\n1- Nifti conversions: aseg - aparc+aseg - aparc.a2009s+aseg - wm - t1.\n   Export FreeSurfer '.mgz' images of interest in Nifti format. These\n   images are resliced like the 'rawavg.mgz' file, have a '.native'\n   suffix and are stored in a 'convert' folder.\n\n2- Registration matrix: between the conformed space (orig.mgz)\n   and the native anatomical (rawavg.mgz).\n\n3- Create the ribbon right and left hemispheres masks.\n\n4- Create the mid thickness right and left hemispheres surfaces.\n   [optional 10-30 min]\n\n5- Surface conversions: resample the white or pial FreeSurfer\n   surfaces at different resolutions (impacts the number of vertex)\n   with common mesh that can be directly used in a longitudinal\n   setting. The results are also stored in a 'convert' folder with\n   a '.native' suffix and the considered level in the file name. Vetex\n   are expressed in the index coordinate system.\n\n6- Align the interhemispheric surface vertices by aplying an existing atlas.\n   [optional 1-2 hours]\n\nCommand:\n\npython $HOME/git/pyfreesurfer/pyfreesurfer/scripts/pyfreesurfer_conversion \\\n    -v 2 \\\n    -c /i2bm/local/freesurfer/SetUpFreeSurfer.sh \\\n    -d /neurospin/senior/nsap/data/V4/freesurfer \\\n    -s ag110371 \\\n    -o /tmp \\\n    -r lhrh \\\n    -e\n\"\"\"\n\n\ndef is_file(filearg):\n    \"\"\" Type for argparse - checks that file exists but does not open.\n    \"\"\"\n    if not os.path.isfile(filearg):\n        raise argparse.ArgumentError(\n            \"The file '{0}' does not exist!\".format(filearg))\n    return filearg\n\n\ndef is_directory(dirarg):\n    \"\"\" Type for argparse - checks that directory exists.\n    \"\"\"\n    if not os.path.isdir(dirarg):\n        raise argparse.ArgumentError(\n            \"The directory '{0}' does not exist!\".format(dirarg))\n    return dirarg\n\n\ndef get_cmd_line_args():\n    \"\"\"\n    Create a command line argument parser and return a dict mapping\n    <argument name> -> <argument value>.\n    \"\"\"\n    parser = argparse.ArgumentParser(\n        prog=\"python pyfreesurfer_conversion\",\n        description=textwrap.dedent(DOC),\n        formatter_class=RawTextHelpFormatter)\n\n    # Required arguments\n    required = parser.add_argument_group(\"required arguments\")\n    required.add_argument(\n        \"-d\", \"--fsdir\",\n        required=True, metavar=\"PATH\", type=is_directory,\n        help=\"the FreeSurfer processing home directory.\")\n    required.add_argument(\n        \"-o\", \"--outdir\",\n        required=True, metavar=\"PATH\", type=is_directory,\n        help=\"the FreeSurfer conversion home directory.\")\n    parser.add_argument(\n        \"-s\", \"--subjectid\",\n        required=True,\n        help=\"the subject identifier.\")\n\n    # Optional arguments\n    parser.add_argument(\n        \"-v\", \"--verbose\",\n        type=int, choices=[0, 1, 2], default=0,\n        help=\"increase the verbosity level: 0 silent, [1, 2] verbose.\")\n    parser.add_argument(\n        \"-e\", \"--erase\",\n        action=\"store_true\",\n        help=\"if activated, clean the result folder.\")\n    parser.add_argument(\n        \"-c\", \"--config\", dest=\"fsconfig\",\n        metavar=\"FILE\", type=is_file,\n        help=\"the FreeSurfer configuration file.\")\n    parser.add_argument(\n        \"-m\", \"--midgray\",\n        action=\"store_true\",\n        help=(\"if activated, compute the mid thickness surfaces.\"))\n    parser.add_argument(\n        \"-r\", \"--surfreg\",\n        choices=[\"lh\", \"rh\", \"lhrh\"],\n        help=(\"if set, surface-based interhemispheric registration using the \"\n              \"specified hemisphere.\"))\n    parser.add_argument(\n        \"-t\", \"--templatesym\",\n        type=is_directory,\n        help=(\"path to the 'fsaverage_sym' template.\"))\n\n    # Create a dict of arguments to pass to the 'main' function\n    args = parser.parse_args()\n    if args.fsconfig is None:\n        args.fsconfig = DEFAULT_FREESURFER_PATH\n\n    return args"
      ], 
      "outputs": [], 
      "metadata": {
        "collapsed": false
      }
    }, 
    {
      "source": [
        "Parse the command line.\n\n"
      ], 
      "cell_type": "markdown", 
      "metadata": {}
    }, 
    {
      "execution_count": null, 
      "cell_type": "code", 
      "source": [
        "args = get_cmd_line_args()\ntool = \"pyfreesurfer_conversion\"\ntimestamp = datetime.now().isoformat()\ntool_version = version\nfreesurfer_config = args.fsconfig\nfreesurfer_version = FSWrapper([], freesurfer_config).version\nparams = locals()\nruntime = dict([(name, params[name])\n               for name in (\"freesurfer_config\", \"tool\", \"tool_version\",\n                            \"freesurfer_version\", \"timestamp\")])\nif args.verbose > 0:\n    print(\"[info] Start FreeSurfer conversions...\")\n    print(\"[info] FreeSurfer home directory: {0}.\".format(args.fsdir))\n    print(\"[info] Output directory: {0}.\".format(args.outdir))\n    print(\"[info] Subject: {0}.\".format(args.subjectid))\n    print(\"[info] FreeSurfer version: {0}.\".format(freesurfer_version))\nsubjectid = args.subjectid\ntemplatesym = args.templatesym or DEFAULT_TEMPLATE_SYM_PATH\nsubjdir = os.path.join(args.fsdir, subjectid)\nconvertdir = os.path.join(args.outdir, args.subjectid, \"convert\")\nimagedir = os.path.join(convertdir, \"images\")\nsurfacedir = os.path.join(convertdir, \"surfaces\")\naddmidgray = args.midgray\nsurfreg = args.surfreg\nparams = locals()\ninputs = dict([(name, params[name])\n               for name in (\"subjectid\", \"subjdir\", \"convertdir\", \"imagedir\",\n                            \"surfacedir\", \"addmidgray\", \"surfreg\",\n                            \"templatesym\")])\noutputs = None\nif not os.path.isdir(subjdir):\n    raise ValueError(\n        \"'{0}' is not a FreeSurfer subject folder.\".format(subjdir))\nif args.erase and os.path.isdir(convertdir):\n    shutil.rmtree(convertdir)\nfor directory in (convertdir, imagedir, surfacedir):\n    if not os.path.isdir(directory):\n        os.makedirs(directory)"
      ], 
      "outputs": [], 
      "metadata": {
        "collapsed": false
      }
    }, 
    {
      "source": [
        "Step 1: Nifti conversions.\n\n"
      ], 
      "cell_type": "markdown", 
      "metadata": {}
    }, 
    {
      "execution_count": null, 
      "cell_type": "code", 
      "source": [
        "if args.verbose > 0:\n    print(\"[info] Start Nifti conversions...\")\nniftifiles = {}\nfor modality in [\"aparc+aseg\", \"aparc.a2009s+aseg\", \"aseg\", \"wm\", \"rawavg\",\n                 \"ribbon\", \"brain\"]:\n    regex = os.path.join(args.subjectid, \"mri\", \"{0}.mgz\".format(modality))\n    niftifiles[modality] = mri_convert(\n        args.fsdir,\n        regex,\n        args.outdir,\n        destdirname=os.path.join(\"convert\", \"images\"),\n        reslice=True,\n        interpolation=\"nearest\",\n        fsconfig=freesurfer_config)\n    if args.verbose > 1:\n        print(\"[result] {0}: {1}.\".format(modality, niftifiles[modality]))"
      ], 
      "outputs": [], 
      "metadata": {
        "collapsed": false
      }
    }, 
    {
      "source": [
        "Step 2: Registration matrix.\n\n"
      ], 
      "cell_type": "markdown", 
      "metadata": {}
    }, 
    {
      "execution_count": null, 
      "cell_type": "code", 
      "source": [
        "if args.verbose > 0:\n    print(\"[info] Start Registration matrix...\")\nregex = os.path.join(args.subjectid, \"mri\")\ntrffile = conformed_to_native_space(\n    args.fsdir,\n    regex,\n    args.outdir,\n    fsconfig=freesurfer_config)\nif args.verbose > 1:\n    print(\"[result] trffile: {0}.\".format(trffile))"
      ], 
      "outputs": [], 
      "metadata": {
        "collapsed": false
      }
    }, 
    {
      "source": [
        "Step 3: Create the ribbon right and left hemispheres masks.\n\n"
      ], 
      "cell_type": "markdown", 
      "metadata": {}
    }, 
    {
      "execution_count": null, 
      "cell_type": "code", 
      "source": [
        "ribbon_file = niftifiles[\"ribbon\"][0]\nimage = nibabel.load(ribbon_file)\ndata = image.get_data()\nfor hemi, label in [(\"lh\", 3), (\"rh\", 42)]:\n    indices = numpy.where((data > (label - 0.01)) & (data < (label + 0.01)))\n    mask = numpy.zeros(data.shape, dtype=int)\n    mask[indices] = 1\n    mask_image = nibabel.Nifti1Image(mask, image.get_affine())\n    mask_file = os.path.join(imagedir, \"{0}.ribbon.nii.gz\".format(hemi))\n    nibabel.save(mask_image, mask_file)\n    niftifiles[\"ribbon\"].append(mask_file)"
      ], 
      "outputs": [], 
      "metadata": {
        "collapsed": false
      }
    }, 
    {
      "source": [
        "Step 4: Create the mid thickness right and left hemispheres surfaces\n\n"
      ], 
      "cell_type": "markdown", 
      "metadata": {}
    }, 
    {
      "execution_count": null, 
      "cell_type": "code", 
      "source": [
        "if addmidgray:\n    for hemi in [\"lh\", \"rh\"]:\n        surf = midgray_surface(\n            hemi,\n            surfacedir,\n            args.fsdir,\n            subjectid,\n            fsconfig=freesurfer_config)"
      ], 
      "outputs": [], 
      "metadata": {
        "collapsed": false
      }
    }, 
    {
      "source": [
        "Step 5: Surface conversions.\n\n"
      ], 
      "cell_type": "markdown", 
      "metadata": {}
    }, 
    {
      "execution_count": null, 
      "cell_type": "code", 
      "source": [
        "if args.verbose > 0:\n    print(\"[info] Start surface conversions...\")\nsurfaces = {}\nannotations = []\nmodalities = [\"pial\", \"white\"]\nif addmidgray:\n    modalities.append(\"graymid\")\nfor modality in modalities:\n    for hemi in [\"lh\", \"rh\"]:\n        name = \"{0}.{1}\".format(hemi, modality)\n        regex = os.path.join(args.subjectid, \"surf\", name)\n        resamplefiles, annotfiles = resample_cortical_surface(\n            args.fsdir,\n            regex,\n            args.outdir,\n            destdirname=os.path.join(\"convert\", \"surfaces\"),\n            orders=[4, 5, 6, 7],\n            surface_name=modality,\n            fsconfig=freesurfer_config)\n        annotations.extend(annotfiles)\n        surfaces[name] = surf_convert(\n            args.fsdir,\n            niftifiles[\"rawavg\"],\n            resamplefiles,\n            sidpos=-4,\n            rm_orig=True,\n            fsconfig=freesurfer_config)\n        if args.verbose > 1:\n            print(\"[result] {0}: {1}.\".format(name, surfaces[name]))\nannotations = list(set(annotations))\nif args.verbose > 1:\n    print(\"[result] Annotations: {0}.\".format(annotations))"
      ], 
      "outputs": [], 
      "metadata": {
        "collapsed": false
      }
    }, 
    {
      "source": [
        "Step 6: Surface-based interhemispheric registration.\n\n"
      ], 
      "cell_type": "markdown", 
      "metadata": {}
    }, 
    {
      "execution_count": null, 
      "cell_type": "code", 
      "source": [
        "xhemidirs = {}\nspherefiles = {}\nif surfreg is not None:\n    if surfreg == \"lhrh\":\n        hemis = [\"lh\", \"rh\"]\n    else:\n        hemis = [surfreg]\n    for hemi in hemis:\n        xhemidir, spherefile = interhemi_surfreg(\n                hemi=hemi,\n                outdir=convertdir,\n                fsdir=args.fsdir,\n                sid=subjectid,\n                template_file=templatesym,\n                destname=\"{0}_surfreg\".format(hemi),\n                fsconfig=freesurfer_config)\n        xhemidirs[hemi] = xhemidir\n        spherefiles[hemi] = spherefile\n        if args.verbose > 1:\n            print(\"[result] xhemidir: {0}.\".format(xhemidir))\n            print(\"[result] spherefile: {0}.\".format(spherefile))"
      ], 
      "outputs": [], 
      "metadata": {
        "collapsed": false
      }
    }, 
    {
      "source": [
        "Update the outputs and save them and the inputs in a 'logs' directory.\n\n"
      ], 
      "cell_type": "markdown", 
      "metadata": {}
    }, 
    {
      "execution_count": null, 
      "cell_type": "code", 
      "source": [
        "logdir = os.path.join(convertdir, \"logs\")\nif not os.path.isdir(logdir):\n    os.mkdir(logdir)\nparams = locals()\noutputs = dict([(name, params[name])\n               for name in (\"niftifiles\", \"trffile\", \"surfaces\",\n                            \"annotations\", \"xhemidirs\", \"spherefiles\")])\nfor name, final_struct in [(\"inputs\", inputs), (\"outputs\", outputs),\n                           (\"runtime\", runtime)]:\n    log_file = os.path.join(logdir, \"{0}.json\".format(name))\n    with open(log_file, \"wt\") as open_file:\n        json.dump(final_struct, open_file, sort_keys=True, check_circular=True,\n                  indent=4)\nif args.verbose > 1:\n    print(\"[final]\")\n    pprint(outputs)"
      ], 
      "outputs": [], 
      "metadata": {
        "collapsed": false
      }
    }
  ], 
  "metadata": {
    "kernelspec": {
      "display_name": "Python 2", 
      "name": "python2", 
      "language": "python"
    }, 
    "language_info": {
      "mimetype": "text/x-python", 
      "nbconvert_exporter": "python", 
      "name": "python", 
      "file_extension": ".py", 
      "version": "2.7.12", 
      "pygments_lexer": "ipython2", 
      "codemirror_mode": {
        "version": 2, 
        "name": "ipython"
      }
    }
  }
}