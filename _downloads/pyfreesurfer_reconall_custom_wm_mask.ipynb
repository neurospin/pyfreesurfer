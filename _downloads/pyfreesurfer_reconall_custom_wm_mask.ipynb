{
  "nbformat_minor": 0, 
  "nbformat": 4, 
  "cells": [
    {
      "execution_count": null, 
      "cell_type": "code", 
      "source": [
        "%matplotlib inline"
      ], 
      "outputs": [], 
      "metadata": {
        "collapsed": false
      }
    }, 
    {
      "source": [
        "\nPyfreesurfer Reconall Custom Wm Mask\n====================================\n\nExample automatically generated from package script.\n\n"
      ], 
      "cell_type": "markdown", 
      "metadata": {}
    }, 
    {
      "execution_count": null, 
      "cell_type": "code", 
      "source": [
        "# Standard\nimport os\nimport argparse\nimport datetime\nimport json\nfrom pprint import pprint\nimport textwrap\nfrom argparse import RawTextHelpFormatter\n\n# Package\nimport pyfreesurfer\nfrom pyfreesurfer import DEFAULT_FREESURFER_PATH\nfrom pyfreesurfer.segmentation.cortical import recon_all_custom_wm_mask\nfrom pyfreesurfer.wrapper import FSWrapper\n\n\n# Parameters to keep trace\n__hopla__ = [\"runtime\", \"inputs\", \"outputs\"]\n\n# Script documentation\nDOC = \"\"\"\nAssuming you have run recon-all (at least upto wm.mgz creation), this\nscript allows to rerun recon-all using a custom white matter mask.\nThe mask has to be in the subject's FreeSurfer space (1mm iso + aligned with\nbrain.mgz) with values in [0; 1] (i.e. probability of being white matter).\n\"\"\"\n\n\ndef is_file(filepath):\n    \"\"\" Check file's existence - argparse 'type' argument.\n    \"\"\"\n    if not os.path.isfile(filepath):\n        raise argparse.ArgumentError(\"File does not exist: %s\" % filepath)\n    return filepath\n\n\ndef is_dir(dirpath):\n    \"\"\" Check direcory's existence - argparse 'type' argument.\n    \"\"\"\n    if not os.path.isdir(dirpath):\n        raise argparse.ArgumentError(\"Directory does not exist: %s\" % dirpath)\n    return dirpath\n\n\ndef get_cmd_line_args():\n    \"\"\"\n    Create a command line argument parser and return a dict mapping\n    <argument name> -> <argument value>.\n    \"\"\"\n    usage = (\"%(prog)s -s <subject id> -w <path> [-k] [-S <dir>] \"\n             \"[-T <path>] [-c <path>] [-v <int>]\")\n    prog = \"python pyfreesurfer_reconall_custom_wm_mask\"\n    parser = argparse.ArgumentParser(\n        prog=prog,\n        usage=usage,\n        description=textwrap.dedent(DOC),\n        formatter_class=RawTextHelpFormatter)\n\n    # Required arguments\n    parser.add_argument(\"-s\", \"--subject-id\", required=True, metavar=\"<id>\",\n                        help=\"Identifier of subject.\")\n    whelp = (\"Path to the custom white matter mask. It has to be in the \"\n             \"subject's FreeSurfer space (1mm iso + aligned with brain.mgz) \"\n             \"with values in [0; 1] (i.e. probability of being white matter). \"\n             \"For example, tt can be the 'brain_pve_2.nii.gz' white matter \"\n             \"probability map created by FSL Fast.\")\n    parser.add_argument(\"-w\", \"--wm-mask\", required=True, metavar=\"<path>\",\n                        help=whelp)\n\n    # Optional arguments\n    parser.add_argument(\"-k\", \"--keep-orig\", action=\"store_true\",\n                        help=\"Save original 'wm.seg.mgz' as 'wm.seg.orig.mgz' \"\n                             \"instead of overwriting it.\")\n    parser.add_argument(\"-S\", \"--subjects-dir\", metavar=\"<path>\",\n                        help=\"Path to the FreeSurfer subjects directory. \"\n                             \"Required if the environment variable \"\n                             \"$SUBJECTS_DIR is not set.\")\n    parser.add_argument(\"-T\", \"--temp-dir\", type=is_dir, metavar=\"<path>\",\n                        help=\"Directory to use to store temporary files. \"\n                             \"By default OS tmp dir.\")\n    parser.add_argument(\"-c\", \"--config\", type=is_file, metavar=\"<path>\",\n                        dest=\"fsconfig\",\n                        help=\"the FreeSurfer configuration file. \"\n                             \"By default %s.\" % DEFAULT_FREESURFER_PATH)\n    parser.add_argument(\"-v\", \"--verbose\", type=int, choices=[0, 1, 2],\n                        default=2, help=\"Increase the verbosity level: 0 \"\n                                        \"silent, [1, 2] verbose.\")\n\n    # Create a dict of arguments to pass to the 'main' function\n    args = parser.parse_args()\n    kwargs = vars(args)\n    verbose = kwargs.pop(\"verbose\")\n    if kwargs[\"fsconfig\"] is None:\n        kwargs[\"fsconfig\"] = DEFAULT_FREESURFER_PATH\n\n    return kwargs, verbose\n\n\n# Parse the command line.\ninputs, verbose = get_cmd_line_args()\n\n# Runtime informations\nruntime = dict(tool=\"pyfreesurfer_reconall_custom_wm_mask\",\n               tool_version=pyfreesurfer.__version__,\n               fs_version=FSWrapper([], shfile=inputs[\"fsconfig\"]).version,\n               timestamp=datetime.datetime.now().isoformat())\n\nif verbose > 0:\n    pprint(\"[info] Starting recon-all with custom white matter mask\")\n    pprint(\"[info] Runtime:\")\n    pprint(runtime)\n    pprint(\"[info] Inputs:\")\n    pprint(inputs)\n\n# Run\nsubject_dir = recon_all_custom_wm_mask(**inputs)\noutputs = dict(subject_dir=subject_dir)\n\n# Store inputs, runtime and outputs as JSONs in a 'logs' dir in the subject_dir\nlogs_dir = os.path.join(subject_dir, \"logs\")\nif not os.path.isdir(logs_dir):\n    os.mkdir(logs_dir)\nfor k, v in dict(inputs=inputs, outputs=outputs, runtime=runtime).items():\n    path_json = os.path.join(logs_dir, \"%s_recon_all_custom_wm_mask.json\" % k)\n    with open(path_json, \"w\") as f:\n        json.dump(v, f, sort_keys=True, check_circular=True, indent=4)"
      ], 
      "outputs": [], 
      "metadata": {
        "collapsed": false
      }
    }
  ], 
  "metadata": {
    "kernelspec": {
      "display_name": "Python 2", 
      "name": "python2", 
      "language": "python"
    }, 
    "language_info": {
      "mimetype": "text/x-python", 
      "nbconvert_exporter": "python", 
      "name": "python", 
      "file_extension": ".py", 
      "version": "2.7.12", 
      "pygments_lexer": "ipython2", 
      "codemirror_mode": {
        "version": 2, 
        "name": "ipython"
      }
    }
  }
}