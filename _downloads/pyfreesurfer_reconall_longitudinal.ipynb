{
  "nbformat_minor": 0, 
  "nbformat": 4, 
  "cells": [
    {
      "execution_count": null, 
      "cell_type": "code", 
      "source": [
        "%matplotlib inline"
      ], 
      "outputs": [], 
      "metadata": {
        "collapsed": false
      }
    }, 
    {
      "source": [
        "\nPyfreesurfer Reconall Longitudinal\n==================================\n\nExample automatically generated from package script.\n\n"
      ], 
      "cell_type": "markdown", 
      "metadata": {}
    }, 
    {
      "execution_count": null, 
      "cell_type": "code", 
      "source": [
        "# Standard\nimport os\nimport argparse\nimport datetime\nimport json\nfrom pprint import pprint\nimport textwrap\nfrom argparse import RawTextHelpFormatter\n\n# Package\nimport pyfreesurfer\nfrom pyfreesurfer import DEFAULT_FREESURFER_PATH\nfrom pyfreesurfer.segmentation.cortical import recon_all_longitudinal\nfrom pyfreesurfer.wrapper import FSWrapper\n\n\n# Parameters to keep trace\n__hopla__ = [\"runtime\", \"inputs\", \"outputs\"]\n\n\n# Script documentation\nDOC = \"\"\"\nAssuming you have run recon-all for all timepoints of a given subject,\nand that the results are stored in one SUBJECTS_DIR per timepoint, this\nscript will:\n    - create a template for the subject and process it with recon-all\n    - rerun recon-all for all timepoints of the subject using the template\n\"\"\"\n\n\ndef is_file(filepath):\n    \"\"\" Check file's existence - argparse 'type' argument.\n    \"\"\"\n    if not os.path.isfile(filepath):\n        raise argparse.ArgumentError(\"File does not exist: %s\" % filepath)\n    return filepath\n\n\ndef get_cmd_line_args():\n    \"\"\"\n    Create a command line argument parser and return a dict mapping\n    <argument name> -> <argument value>.\n    \"\"\"\n    usage = (\"%(prog)s -o <dir> -s <subject id> -S <dir> <dir> ... \"\n             \"[-t <name> <name> ...] [-c <path>] [-v <int>]\")\n    prog = \"python pyfreesurfer_reconall_longitudinal\"\n    parser = argparse.ArgumentParser(\n        prog=prog,\n        usage=usage,\n        description=textwrap.dedent(DOC),\n        formatter_class=RawTextHelpFormatter)\n\n    # Required arguments\n    parser.add_argument(\"-o\", \"--outdir\", required=True, metavar=\"<path>\",\n                        help=\"Directory where to output. Created if not \"\n                             \"already existing.\")\n    parser.add_argument(\"-s\", \"--subject-id\", required=True, metavar=\"<id>\",\n                        help=\"Identifier of subject, used for all timepoints.\")\n    parser.add_argument(\"-S\", \"--subjects-dirs\", required=True, nargs=\"+\",\n                        metavar=\"<path> <path> ...\",\n                        help=\"The FreeSurfer SUBJECTS_DIRs of timepoints.\")\n\n    # Optional arguments\n    thelp = (\"The timepoint names in the same order as the SUBJECTS_DIRs. \"\n             \"Used to create the subject longitudinal IDs. \"\n             'By default timepoints are \"1\", \"2\"...')\n    parser.add_argument(\"-t\", \"--timepoints\", nargs=\"+\",\n                        metavar=\"<name> <name> ...\", help=thelp)\n    parser.add_argument(\"-c\", \"--config\", type=is_file, metavar=\"<path>\",\n                        dest=\"fsconfig\",\n                        help=\"the FreeSurfer configuration file. \"\n                             \"By default %s.\" % DEFAULT_FREESURFER_PATH)\n    parser.add_argument(\"-v\", \"--verbose\", type=int, choices=[0, 1, 2],\n                        default=2, help=\"Increase the verbosity level: 0 \"\n                                        \"silent, [1, 2] verbose.\")\n\n    # Create a dict of arguments to pass to the 'main' function\n    args = parser.parse_args()\n    kwargs = vars(args)\n    verbose = kwargs.pop(\"verbose\")\n    if kwargs[\"fsconfig\"] is None:\n        kwargs[\"fsconfig\"] = DEFAULT_FREESURFER_PATH\n\n    return kwargs, verbose\n\n\n# Parse the command line.\ninputs, verbose = get_cmd_line_args()\n\n# Runtime informations\nruntime = dict(tool=\"pyfreesurfer_reconall_longitudinal\",\n               tool_version=pyfreesurfer.__version__,\n               fs_version=FSWrapper([], shfile=inputs[\"fsconfig\"]).version,\n               timestamp=datetime.datetime.now().isoformat())\n\nif verbose > 0:\n    pprint(\"[info] Starting longitudinal recon-all\")\n    pprint(\"[info] Runtime:\")\n    pprint(runtime)\n    pprint(\"[info] Inputs:\")\n    pprint(inputs)\n\n# Run\nsubject_template_id, subject_long_ids = recon_all_longitudinal(**inputs)\n\n###### Create a 'logs' directory in each recon-all result to store inputs and\n# outputs as JSONs\n\n# Subject template recon-all\nsubject_template_dir = os.path.join(inputs[\"outdir\"], subject_template_id)\ntemplate_logs_dir = os.path.join(subject_template_dir, \"logs\")\nif not os.path.isdir(template_logs_dir):\n    os.mkdir(template_logs_dir)\n# Write JSONs\nfor k, v in dict(inputs=inputs, outputs=dict(), runtime=runtime).items():\n    path_json = os.path.join(template_logs_dir, \"%s.json\" % k)\n    with open(path_json, \"w\") as f:\n        json.dump(v, f, sort_keys=True, check_circular=True, indent=4)\n\n# Subject longitudinal recon-alls\nfor subject_long_id, timepoint, subjects_dir in zip(subject_long_ids,\n                                                    inputs[\"timepoints\"],\n                                                    inputs[\"subjects_dirs\"]):\n    subject_long_dir = os.path.join(inputs[\"outdir\"], subject_long_id)\n    long_logs_dir = os.path.join(subject_long_dir, \"logs\")\n    if not os.path.isdir(long_logs_dir):\n        os.mkdir(long_logs_dir)\n    long_inputs = dict(subject_id=inputs[\"subject_id\"],\n                       subjects_dir=subjects_dir,\n                       timepoint=timepoint,\n                       outdir=inputs[\"outdir\"],\n                       subject_template_id=subject_template_id,\n                       subject_template_dir=subject_template_dir)\n    for k, v in dict(inputs=long_inputs, outputs=dict(), runtime=runtime).items():\n        path_json = os.path.join(template_logs_dir, \"%s.json\" % k)\n        with open(path_json, \"w\") as f:\n            json.dump(v, f, sort_keys=True, check_circular=True, indent=4)\n\n# Global\noutputs = dict(subject_template_id=subject_template_id,\n               subject_long_ids=subject_long_ids)"
      ], 
      "outputs": [], 
      "metadata": {
        "collapsed": false
      }
    }
  ], 
  "metadata": {
    "kernelspec": {
      "display_name": "Python 2", 
      "name": "python2", 
      "language": "python"
    }, 
    "language_info": {
      "mimetype": "text/x-python", 
      "nbconvert_exporter": "python", 
      "name": "python", 
      "file_extension": ".py", 
      "version": "2.7.12", 
      "pygments_lexer": "ipython2", 
      "codemirror_mode": {
        "version": 2, 
        "name": "ipython"
      }
    }
  }
}